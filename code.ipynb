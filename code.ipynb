{
 "cells": [
  {
   "cell_type": "markdown",
   "metadata": {},
   "source": [
    "**Load Data**"
   ]
  },
  {
   "cell_type": "code",
   "execution_count": 2,
   "metadata": {},
   "outputs": [],
   "source": [
    "import pandas as pd\n",
    "data = pd.read_csv(r\"C:\\Users\\Max\\Desktop\\Amir Data\\used_cars.csv\")"
   ]
  },
  {
   "cell_type": "markdown",
   "metadata": {},
   "source": [
    "**Explore Data**"
   ]
  },
  {
   "cell_type": "code",
   "execution_count": 3,
   "metadata": {},
   "outputs": [
    {
     "data": {
      "text/plain": [
       "4009"
      ]
     },
     "execution_count": 3,
     "metadata": {},
     "output_type": "execute_result"
    }
   ],
   "source": [
    "len(data)"
   ]
  },
  {
   "cell_type": "code",
   "execution_count": 4,
   "metadata": {},
   "outputs": [
    {
     "data": {
      "text/html": [
       "<div>\n",
       "<style scoped>\n",
       "    .dataframe tbody tr th:only-of-type {\n",
       "        vertical-align: middle;\n",
       "    }\n",
       "\n",
       "    .dataframe tbody tr th {\n",
       "        vertical-align: top;\n",
       "    }\n",
       "\n",
       "    .dataframe thead th {\n",
       "        text-align: right;\n",
       "    }\n",
       "</style>\n",
       "<table border=\"1\" class=\"dataframe\">\n",
       "  <thead>\n",
       "    <tr style=\"text-align: right;\">\n",
       "      <th></th>\n",
       "      <th>brand</th>\n",
       "      <th>model</th>\n",
       "      <th>model_year</th>\n",
       "      <th>milage</th>\n",
       "      <th>fuel_type</th>\n",
       "      <th>engine</th>\n",
       "      <th>transmission</th>\n",
       "      <th>ext_col</th>\n",
       "      <th>int_col</th>\n",
       "      <th>accident</th>\n",
       "      <th>clean_title</th>\n",
       "      <th>price</th>\n",
       "    </tr>\n",
       "  </thead>\n",
       "  <tbody>\n",
       "    <tr>\n",
       "      <th>0</th>\n",
       "      <td>Ford</td>\n",
       "      <td>Utility Police Interceptor Base</td>\n",
       "      <td>2013</td>\n",
       "      <td>51,000 mi.</td>\n",
       "      <td>E85 Flex Fuel</td>\n",
       "      <td>300.0HP 3.7L V6 Cylinder Engine Flex Fuel Capa...</td>\n",
       "      <td>6-Speed A/T</td>\n",
       "      <td>Black</td>\n",
       "      <td>Black</td>\n",
       "      <td>At least 1 accident or damage reported</td>\n",
       "      <td>Yes</td>\n",
       "      <td>$10,300</td>\n",
       "    </tr>\n",
       "    <tr>\n",
       "      <th>1</th>\n",
       "      <td>Hyundai</td>\n",
       "      <td>Palisade SEL</td>\n",
       "      <td>2021</td>\n",
       "      <td>34,742 mi.</td>\n",
       "      <td>Gasoline</td>\n",
       "      <td>3.8L V6 24V GDI DOHC</td>\n",
       "      <td>8-Speed Automatic</td>\n",
       "      <td>Moonlight Cloud</td>\n",
       "      <td>Gray</td>\n",
       "      <td>At least 1 accident or damage reported</td>\n",
       "      <td>Yes</td>\n",
       "      <td>$38,005</td>\n",
       "    </tr>\n",
       "    <tr>\n",
       "      <th>2</th>\n",
       "      <td>Lexus</td>\n",
       "      <td>RX 350 RX 350</td>\n",
       "      <td>2022</td>\n",
       "      <td>22,372 mi.</td>\n",
       "      <td>Gasoline</td>\n",
       "      <td>3.5 Liter DOHC</td>\n",
       "      <td>Automatic</td>\n",
       "      <td>Blue</td>\n",
       "      <td>Black</td>\n",
       "      <td>None reported</td>\n",
       "      <td>NaN</td>\n",
       "      <td>$54,598</td>\n",
       "    </tr>\n",
       "    <tr>\n",
       "      <th>3</th>\n",
       "      <td>INFINITI</td>\n",
       "      <td>Q50 Hybrid Sport</td>\n",
       "      <td>2015</td>\n",
       "      <td>88,900 mi.</td>\n",
       "      <td>Hybrid</td>\n",
       "      <td>354.0HP 3.5L V6 Cylinder Engine Gas/Electric H...</td>\n",
       "      <td>7-Speed A/T</td>\n",
       "      <td>Black</td>\n",
       "      <td>Black</td>\n",
       "      <td>None reported</td>\n",
       "      <td>Yes</td>\n",
       "      <td>$15,500</td>\n",
       "    </tr>\n",
       "    <tr>\n",
       "      <th>4</th>\n",
       "      <td>Audi</td>\n",
       "      <td>Q3 45 S line Premium Plus</td>\n",
       "      <td>2021</td>\n",
       "      <td>9,835 mi.</td>\n",
       "      <td>Gasoline</td>\n",
       "      <td>2.0L I4 16V GDI DOHC Turbo</td>\n",
       "      <td>8-Speed Automatic</td>\n",
       "      <td>Glacier White Metallic</td>\n",
       "      <td>Black</td>\n",
       "      <td>None reported</td>\n",
       "      <td>NaN</td>\n",
       "      <td>$34,999</td>\n",
       "    </tr>\n",
       "    <tr>\n",
       "      <th>5</th>\n",
       "      <td>Acura</td>\n",
       "      <td>ILX 2.4L</td>\n",
       "      <td>2016</td>\n",
       "      <td>136,397 mi.</td>\n",
       "      <td>Gasoline</td>\n",
       "      <td>2.4 Liter</td>\n",
       "      <td>F</td>\n",
       "      <td>Silver</td>\n",
       "      <td>Ebony.</td>\n",
       "      <td>None reported</td>\n",
       "      <td>NaN</td>\n",
       "      <td>$14,798</td>\n",
       "    </tr>\n",
       "    <tr>\n",
       "      <th>6</th>\n",
       "      <td>Audi</td>\n",
       "      <td>S3 2.0T Premium Plus</td>\n",
       "      <td>2017</td>\n",
       "      <td>84,000 mi.</td>\n",
       "      <td>Gasoline</td>\n",
       "      <td>292.0HP 2.0L 4 Cylinder Engine Gasoline Fuel</td>\n",
       "      <td>6-Speed A/T</td>\n",
       "      <td>Blue</td>\n",
       "      <td>Black</td>\n",
       "      <td>None reported</td>\n",
       "      <td>Yes</td>\n",
       "      <td>$31,000</td>\n",
       "    </tr>\n",
       "    <tr>\n",
       "      <th>7</th>\n",
       "      <td>BMW</td>\n",
       "      <td>740 iL</td>\n",
       "      <td>2001</td>\n",
       "      <td>242,000 mi.</td>\n",
       "      <td>Gasoline</td>\n",
       "      <td>282.0HP 4.4L 8 Cylinder Engine Gasoline Fuel</td>\n",
       "      <td>A/T</td>\n",
       "      <td>Green</td>\n",
       "      <td>Green</td>\n",
       "      <td>None reported</td>\n",
       "      <td>Yes</td>\n",
       "      <td>$7,300</td>\n",
       "    </tr>\n",
       "    <tr>\n",
       "      <th>8</th>\n",
       "      <td>Lexus</td>\n",
       "      <td>RC 350 F Sport</td>\n",
       "      <td>2021</td>\n",
       "      <td>23,436 mi.</td>\n",
       "      <td>Gasoline</td>\n",
       "      <td>311.0HP 3.5L V6 Cylinder Engine Gasoline Fuel</td>\n",
       "      <td>6-Speed A/T</td>\n",
       "      <td>Black</td>\n",
       "      <td>Black</td>\n",
       "      <td>None reported</td>\n",
       "      <td>Yes</td>\n",
       "      <td>$41,927</td>\n",
       "    </tr>\n",
       "    <tr>\n",
       "      <th>9</th>\n",
       "      <td>Tesla</td>\n",
       "      <td>Model X Long Range Plus</td>\n",
       "      <td>2020</td>\n",
       "      <td>34,000 mi.</td>\n",
       "      <td>NaN</td>\n",
       "      <td>534.0HP Electric Motor Electric Fuel System</td>\n",
       "      <td>A/T</td>\n",
       "      <td>Black</td>\n",
       "      <td>Black</td>\n",
       "      <td>None reported</td>\n",
       "      <td>Yes</td>\n",
       "      <td>$69,950</td>\n",
       "    </tr>\n",
       "    <tr>\n",
       "      <th>10</th>\n",
       "      <td>Land</td>\n",
       "      <td>Rover Range Rover Sport 3.0 Supercharged HST</td>\n",
       "      <td>2021</td>\n",
       "      <td>27,608 mi.</td>\n",
       "      <td>Gasoline</td>\n",
       "      <td>V6</td>\n",
       "      <td>Automatic</td>\n",
       "      <td>Fuji White</td>\n",
       "      <td>Pimento / Ebony</td>\n",
       "      <td>None reported</td>\n",
       "      <td>NaN</td>\n",
       "      <td>$73,897</td>\n",
       "    </tr>\n",
       "    <tr>\n",
       "      <th>11</th>\n",
       "      <td>Aston</td>\n",
       "      <td>Martin DBS Superleggera</td>\n",
       "      <td>2019</td>\n",
       "      <td>22,770 mi.</td>\n",
       "      <td>Gasoline</td>\n",
       "      <td>715.0HP 5.2L 12 Cylinder Engine Gasoline Fuel</td>\n",
       "      <td>8-Speed A/T</td>\n",
       "      <td>Silver</td>\n",
       "      <td>Black</td>\n",
       "      <td>None reported</td>\n",
       "      <td>Yes</td>\n",
       "      <td>$184,606</td>\n",
       "    </tr>\n",
       "    <tr>\n",
       "      <th>12</th>\n",
       "      <td>Toyota</td>\n",
       "      <td>Supra 3.0 Premium</td>\n",
       "      <td>2021</td>\n",
       "      <td>12,500 mi.</td>\n",
       "      <td>Gasoline</td>\n",
       "      <td>382.0HP 3.0L Straight 6 Cylinder Engine Gasoli...</td>\n",
       "      <td>A/T</td>\n",
       "      <td>Yellow</td>\n",
       "      <td>Black</td>\n",
       "      <td>None reported</td>\n",
       "      <td>Yes</td>\n",
       "      <td>$53,500</td>\n",
       "    </tr>\n",
       "    <tr>\n",
       "      <th>13</th>\n",
       "      <td>Lincoln</td>\n",
       "      <td>Aviator Reserve AWD</td>\n",
       "      <td>2022</td>\n",
       "      <td>18,196 mi.</td>\n",
       "      <td>Gasoline</td>\n",
       "      <td>400.0HP 3.0L V6 Cylinder Engine Gasoline Fuel</td>\n",
       "      <td>Transmission w/Dual Shift Mode</td>\n",
       "      <td>Black</td>\n",
       "      <td>Brown</td>\n",
       "      <td>None reported</td>\n",
       "      <td>Yes</td>\n",
       "      <td>$62,000</td>\n",
       "    </tr>\n",
       "    <tr>\n",
       "      <th>14</th>\n",
       "      <td>Jaguar</td>\n",
       "      <td>F-TYPE</td>\n",
       "      <td>2020</td>\n",
       "      <td>15,903 mi.</td>\n",
       "      <td>Gasoline</td>\n",
       "      <td>2.0 Liter Supercharged</td>\n",
       "      <td>Automatic</td>\n",
       "      <td>Silver</td>\n",
       "      <td>Black</td>\n",
       "      <td>None reported</td>\n",
       "      <td>NaN</td>\n",
       "      <td>$47,998</td>\n",
       "    </tr>\n",
       "    <tr>\n",
       "      <th>15</th>\n",
       "      <td>Land</td>\n",
       "      <td>Rover LR4 HSE</td>\n",
       "      <td>2013</td>\n",
       "      <td>79,800 mi.</td>\n",
       "      <td>Gasoline</td>\n",
       "      <td>375.0HP 5.0L 8 Cylinder Engine Gasoline Fuel</td>\n",
       "      <td>A/T</td>\n",
       "      <td>White</td>\n",
       "      <td>Black</td>\n",
       "      <td>None reported</td>\n",
       "      <td>Yes</td>\n",
       "      <td>$29,990</td>\n",
       "    </tr>\n",
       "    <tr>\n",
       "      <th>16</th>\n",
       "      <td>Mercedes-Benz</td>\n",
       "      <td>Metris Base</td>\n",
       "      <td>2021</td>\n",
       "      <td>1,685 mi.</td>\n",
       "      <td>Gasoline</td>\n",
       "      <td>2.0L I4 16V GDI DOHC Turbo</td>\n",
       "      <td>9-Speed Automatic</td>\n",
       "      <td>Gray</td>\n",
       "      <td>White</td>\n",
       "      <td>None reported</td>\n",
       "      <td>Yes</td>\n",
       "      <td>$250,000</td>\n",
       "    </tr>\n",
       "    <tr>\n",
       "      <th>17</th>\n",
       "      <td>Dodge</td>\n",
       "      <td>Challenger SXT</td>\n",
       "      <td>2013</td>\n",
       "      <td>61,074 mi.</td>\n",
       "      <td>Gasoline</td>\n",
       "      <td>305.0HP 3.6L V6 Cylinder Engine Gasoline Fuel</td>\n",
       "      <td>A/T</td>\n",
       "      <td>Black</td>\n",
       "      <td>Gray</td>\n",
       "      <td>None reported</td>\n",
       "      <td>Yes</td>\n",
       "      <td>$16,800</td>\n",
       "    </tr>\n",
       "    <tr>\n",
       "      <th>18</th>\n",
       "      <td>Nissan</td>\n",
       "      <td>350Z Enthusiast</td>\n",
       "      <td>2003</td>\n",
       "      <td>74,000 mi.</td>\n",
       "      <td>Gasoline</td>\n",
       "      <td>287.0HP 3.5L V6 Cylinder Engine Gasoline Fuel</td>\n",
       "      <td>6-Speed M/T</td>\n",
       "      <td>Purple</td>\n",
       "      <td>–</td>\n",
       "      <td>None reported</td>\n",
       "      <td>Yes</td>\n",
       "      <td>$11,000</td>\n",
       "    </tr>\n",
       "    <tr>\n",
       "      <th>19</th>\n",
       "      <td>Jaguar</td>\n",
       "      <td>F-TYPE R</td>\n",
       "      <td>2018</td>\n",
       "      <td>35,250 mi.</td>\n",
       "      <td>Gasoline</td>\n",
       "      <td>550.0HP 5.0L 8 Cylinder Engine Gasoline Fuel</td>\n",
       "      <td>8-Speed A/T</td>\n",
       "      <td>Green</td>\n",
       "      <td>Black</td>\n",
       "      <td>None reported</td>\n",
       "      <td>Yes</td>\n",
       "      <td>$68,750</td>\n",
       "    </tr>\n",
       "  </tbody>\n",
       "</table>\n",
       "</div>"
      ],
      "text/plain": [
       "            brand                                         model  model_year  \\\n",
       "0            Ford               Utility Police Interceptor Base        2013   \n",
       "1         Hyundai                                  Palisade SEL        2021   \n",
       "2           Lexus                                 RX 350 RX 350        2022   \n",
       "3        INFINITI                              Q50 Hybrid Sport        2015   \n",
       "4            Audi                     Q3 45 S line Premium Plus        2021   \n",
       "5           Acura                                      ILX 2.4L        2016   \n",
       "6            Audi                          S3 2.0T Premium Plus        2017   \n",
       "7             BMW                                        740 iL        2001   \n",
       "8           Lexus                                RC 350 F Sport        2021   \n",
       "9           Tesla                       Model X Long Range Plus        2020   \n",
       "10           Land  Rover Range Rover Sport 3.0 Supercharged HST        2021   \n",
       "11          Aston                       Martin DBS Superleggera        2019   \n",
       "12         Toyota                             Supra 3.0 Premium        2021   \n",
       "13        Lincoln                           Aviator Reserve AWD        2022   \n",
       "14         Jaguar                                        F-TYPE        2020   \n",
       "15           Land                                 Rover LR4 HSE        2013   \n",
       "16  Mercedes-Benz                                   Metris Base        2021   \n",
       "17          Dodge                                Challenger SXT        2013   \n",
       "18         Nissan                               350Z Enthusiast        2003   \n",
       "19         Jaguar                                      F-TYPE R        2018   \n",
       "\n",
       "         milage      fuel_type  \\\n",
       "0    51,000 mi.  E85 Flex Fuel   \n",
       "1    34,742 mi.       Gasoline   \n",
       "2    22,372 mi.       Gasoline   \n",
       "3    88,900 mi.         Hybrid   \n",
       "4     9,835 mi.       Gasoline   \n",
       "5   136,397 mi.       Gasoline   \n",
       "6    84,000 mi.       Gasoline   \n",
       "7   242,000 mi.       Gasoline   \n",
       "8    23,436 mi.       Gasoline   \n",
       "9    34,000 mi.            NaN   \n",
       "10   27,608 mi.       Gasoline   \n",
       "11   22,770 mi.       Gasoline   \n",
       "12   12,500 mi.       Gasoline   \n",
       "13   18,196 mi.       Gasoline   \n",
       "14   15,903 mi.       Gasoline   \n",
       "15   79,800 mi.       Gasoline   \n",
       "16    1,685 mi.       Gasoline   \n",
       "17   61,074 mi.       Gasoline   \n",
       "18   74,000 mi.       Gasoline   \n",
       "19   35,250 mi.       Gasoline   \n",
       "\n",
       "                                               engine  \\\n",
       "0   300.0HP 3.7L V6 Cylinder Engine Flex Fuel Capa...   \n",
       "1                                3.8L V6 24V GDI DOHC   \n",
       "2                                      3.5 Liter DOHC   \n",
       "3   354.0HP 3.5L V6 Cylinder Engine Gas/Electric H...   \n",
       "4                          2.0L I4 16V GDI DOHC Turbo   \n",
       "5                                           2.4 Liter   \n",
       "6        292.0HP 2.0L 4 Cylinder Engine Gasoline Fuel   \n",
       "7        282.0HP 4.4L 8 Cylinder Engine Gasoline Fuel   \n",
       "8       311.0HP 3.5L V6 Cylinder Engine Gasoline Fuel   \n",
       "9         534.0HP Electric Motor Electric Fuel System   \n",
       "10                                                 V6   \n",
       "11      715.0HP 5.2L 12 Cylinder Engine Gasoline Fuel   \n",
       "12  382.0HP 3.0L Straight 6 Cylinder Engine Gasoli...   \n",
       "13      400.0HP 3.0L V6 Cylinder Engine Gasoline Fuel   \n",
       "14                             2.0 Liter Supercharged   \n",
       "15       375.0HP 5.0L 8 Cylinder Engine Gasoline Fuel   \n",
       "16                         2.0L I4 16V GDI DOHC Turbo   \n",
       "17      305.0HP 3.6L V6 Cylinder Engine Gasoline Fuel   \n",
       "18      287.0HP 3.5L V6 Cylinder Engine Gasoline Fuel   \n",
       "19       550.0HP 5.0L 8 Cylinder Engine Gasoline Fuel   \n",
       "\n",
       "                      transmission                 ext_col          int_col  \\\n",
       "0                      6-Speed A/T                   Black            Black   \n",
       "1                8-Speed Automatic         Moonlight Cloud             Gray   \n",
       "2                        Automatic                    Blue            Black   \n",
       "3                      7-Speed A/T                   Black            Black   \n",
       "4                8-Speed Automatic  Glacier White Metallic            Black   \n",
       "5                                F                  Silver           Ebony.   \n",
       "6                      6-Speed A/T                    Blue            Black   \n",
       "7                              A/T                   Green            Green   \n",
       "8                      6-Speed A/T                   Black            Black   \n",
       "9                              A/T                   Black            Black   \n",
       "10                       Automatic              Fuji White  Pimento / Ebony   \n",
       "11                     8-Speed A/T                  Silver            Black   \n",
       "12                             A/T                  Yellow            Black   \n",
       "13  Transmission w/Dual Shift Mode                   Black            Brown   \n",
       "14                       Automatic                  Silver            Black   \n",
       "15                             A/T                   White            Black   \n",
       "16               9-Speed Automatic                    Gray            White   \n",
       "17                             A/T                   Black             Gray   \n",
       "18                     6-Speed M/T                  Purple                –   \n",
       "19                     8-Speed A/T                   Green            Black   \n",
       "\n",
       "                                  accident clean_title     price  \n",
       "0   At least 1 accident or damage reported         Yes   $10,300  \n",
       "1   At least 1 accident or damage reported         Yes   $38,005  \n",
       "2                            None reported         NaN   $54,598  \n",
       "3                            None reported         Yes   $15,500  \n",
       "4                            None reported         NaN   $34,999  \n",
       "5                            None reported         NaN   $14,798  \n",
       "6                            None reported         Yes   $31,000  \n",
       "7                            None reported         Yes    $7,300  \n",
       "8                            None reported         Yes   $41,927  \n",
       "9                            None reported         Yes   $69,950  \n",
       "10                           None reported         NaN   $73,897  \n",
       "11                           None reported         Yes  $184,606  \n",
       "12                           None reported         Yes   $53,500  \n",
       "13                           None reported         Yes   $62,000  \n",
       "14                           None reported         NaN   $47,998  \n",
       "15                           None reported         Yes   $29,990  \n",
       "16                           None reported         Yes  $250,000  \n",
       "17                           None reported         Yes   $16,800  \n",
       "18                           None reported         Yes   $11,000  \n",
       "19                           None reported         Yes   $68,750  "
      ]
     },
     "execution_count": 4,
     "metadata": {},
     "output_type": "execute_result"
    }
   ],
   "source": [
    "data.head(20)"
   ]
  },
  {
   "cell_type": "code",
   "execution_count": 5,
   "metadata": {},
   "outputs": [
    {
     "data": {
      "text/plain": [
       "Index(['brand', 'model', 'model_year', 'milage', 'fuel_type', 'engine',\n",
       "       'transmission', 'ext_col', 'int_col', 'accident', 'clean_title',\n",
       "       'price'],\n",
       "      dtype='object')"
      ]
     },
     "execution_count": 5,
     "metadata": {},
     "output_type": "execute_result"
    }
   ],
   "source": [
    "data.columns"
   ]
  },
  {
   "cell_type": "code",
   "execution_count": 6,
   "metadata": {},
   "outputs": [
    {
     "data": {
      "text/plain": [
       "array(['Ford', 'Hyundai', 'Lexus', 'INFINITI', 'Audi', 'Acura', 'BMW',\n",
       "       'Tesla', 'Land', 'Aston', 'Toyota', 'Lincoln', 'Jaguar',\n",
       "       'Mercedes-Benz', 'Dodge', 'Nissan', 'Genesis', 'Chevrolet', 'Kia',\n",
       "       'Jeep', 'Bentley', 'Honda', 'Lucid', 'MINI', 'Porsche', 'Hummer',\n",
       "       'Chrysler', 'Volvo', 'Cadillac', 'Lamborghini', 'Maserati',\n",
       "       'Volkswagen', 'Subaru', 'Rivian', 'GMC', 'RAM', 'Alfa', 'Ferrari',\n",
       "       'Scion', 'Mitsubishi', 'Mazda', 'Saturn', 'Bugatti', 'Polestar',\n",
       "       'Rolls-Royce', 'McLaren', 'Buick', 'Lotus', 'Pontiac', 'FIAT',\n",
       "       'Karma', 'Saab', 'Mercury', 'Plymouth', 'smart', 'Maybach',\n",
       "       'Suzuki'], dtype=object)"
      ]
     },
     "execution_count": 6,
     "metadata": {},
     "output_type": "execute_result"
    }
   ],
   "source": [
    "data['brand'].unique()"
   ]
  },
  {
   "cell_type": "code",
   "execution_count": 7,
   "metadata": {},
   "outputs": [
    {
     "data": {
      "text/plain": [
       "brand           object\n",
       "model           object\n",
       "model_year       int64\n",
       "milage          object\n",
       "fuel_type       object\n",
       "engine          object\n",
       "transmission    object\n",
       "ext_col         object\n",
       "int_col         object\n",
       "accident        object\n",
       "clean_title     object\n",
       "price           object\n",
       "dtype: object"
      ]
     },
     "execution_count": 7,
     "metadata": {},
     "output_type": "execute_result"
    }
   ],
   "source": [
    "data.dtypes"
   ]
  },
  {
   "cell_type": "code",
   "execution_count": 8,
   "metadata": {},
   "outputs": [
    {
     "data": {
      "text/plain": [
       "brand\n",
       "Ford             386\n",
       "BMW              375\n",
       "Mercedes-Benz    315\n",
       "Chevrolet        292\n",
       "Porsche          201\n",
       "Audi             200\n",
       "Toyota           199\n",
       "Lexus            163\n",
       "Jeep             143\n",
       "Land             130\n",
       "Nissan           116\n",
       "Cadillac         107\n",
       "GMC               91\n",
       "RAM               91\n",
       "Dodge             90\n",
       "Tesla             87\n",
       "Kia               76\n",
       "Hyundai           72\n",
       "Subaru            64\n",
       "Acura             64\n",
       "Mazda             64\n",
       "Honda             63\n",
       "INFINITI          59\n",
       "Volkswagen        59\n",
       "Lincoln           52\n",
       "Jaguar            47\n",
       "Volvo             38\n",
       "Maserati          34\n",
       "Bentley           33\n",
       "MINI              33\n",
       "Buick             30\n",
       "Chrysler          28\n",
       "Lamborghini       26\n",
       "Genesis           20\n",
       "Mitsubishi        20\n",
       "Alfa              19\n",
       "Rivian            17\n",
       "Hummer            16\n",
       "Pontiac           15\n",
       "Ferrari           12\n",
       "Rolls-Royce       11\n",
       "Aston              9\n",
       "Scion              6\n",
       "McLaren            6\n",
       "Saturn             5\n",
       "FIAT               5\n",
       "Lotus              4\n",
       "Lucid              3\n",
       "Mercury            3\n",
       "Karma              2\n",
       "Saab               2\n",
       "Bugatti            1\n",
       "Polestar           1\n",
       "Plymouth           1\n",
       "smart              1\n",
       "Maybach            1\n",
       "Suzuki             1\n",
       "Name: count, dtype: int64"
      ]
     },
     "execution_count": 8,
     "metadata": {},
     "output_type": "execute_result"
    }
   ],
   "source": [
    "data['brand'].value_counts()"
   ]
  },
  {
   "cell_type": "code",
   "execution_count": 9,
   "metadata": {},
   "outputs": [
    {
     "data": {
      "image/png": "[encoded data removed]",
      "text/plain": [
       "<Figure size 640x480 with 1 Axes>"
      ]
     },
     "metadata": {},
     "output_type": "display_data"
    }
   ],
   "source": [
    "import matplotlib.pyplot as plt\n",
    "\n",
    "data['model_year'].hist(bins=20)\n",
    "plt.xlabel('Model Year')\n",
    "plt.ylabel('Frequency')\n",
    "plt.title('Distribution of Model Years')\n",
    "plt.show()"
   ]
  },
  {
   "cell_type": "code",
   "execution_count": 10,
   "metadata": {},
   "outputs": [
    {
     "data": {
      "text/html": [
       "<div>\n",
       "<style scoped>\n",
       "    .dataframe tbody tr th:only-of-type {\n",
       "        vertical-align: middle;\n",
       "    }\n",
       "\n",
       "    .dataframe tbody tr th {\n",
       "        vertical-align: top;\n",
       "    }\n",
       "\n",
       "    .dataframe thead th {\n",
       "        text-align: right;\n",
       "    }\n",
       "</style>\n",
       "<table border=\"1\" class=\"dataframe\">\n",
       "  <thead>\n",
       "    <tr style=\"text-align: right;\">\n",
       "      <th></th>\n",
       "      <th>brand</th>\n",
       "      <th>model</th>\n",
       "      <th>model_year</th>\n",
       "      <th>milage</th>\n",
       "      <th>fuel_type</th>\n",
       "      <th>engine</th>\n",
       "      <th>transmission</th>\n",
       "      <th>ext_col</th>\n",
       "      <th>int_col</th>\n",
       "      <th>accident</th>\n",
       "      <th>clean_title</th>\n",
       "      <th>price</th>\n",
       "    </tr>\n",
       "  </thead>\n",
       "  <tbody>\n",
       "    <tr>\n",
       "      <th>0</th>\n",
       "      <td>Ford</td>\n",
       "      <td>Utility Police Interceptor Base</td>\n",
       "      <td>2013</td>\n",
       "      <td>51000</td>\n",
       "      <td>E85 Flex Fuel</td>\n",
       "      <td>300.0HP 3.7L V6 Cylinder Engine Flex Fuel Capa...</td>\n",
       "      <td>6-Speed A/T</td>\n",
       "      <td>Black</td>\n",
       "      <td>Black</td>\n",
       "      <td>At least 1 accident or damage reported</td>\n",
       "      <td>Yes</td>\n",
       "      <td>$10,300</td>\n",
       "    </tr>\n",
       "    <tr>\n",
       "      <th>1</th>\n",
       "      <td>Hyundai</td>\n",
       "      <td>Palisade SEL</td>\n",
       "      <td>2021</td>\n",
       "      <td>34742</td>\n",
       "      <td>Gasoline</td>\n",
       "      <td>3.8L V6 24V GDI DOHC</td>\n",
       "      <td>8-Speed Automatic</td>\n",
       "      <td>Moonlight Cloud</td>\n",
       "      <td>Gray</td>\n",
       "      <td>At least 1 accident or damage reported</td>\n",
       "      <td>Yes</td>\n",
       "      <td>$38,005</td>\n",
       "    </tr>\n",
       "    <tr>\n",
       "      <th>2</th>\n",
       "      <td>Lexus</td>\n",
       "      <td>RX 350 RX 350</td>\n",
       "      <td>2022</td>\n",
       "      <td>22372</td>\n",
       "      <td>Gasoline</td>\n",
       "      <td>3.5 Liter DOHC</td>\n",
       "      <td>Automatic</td>\n",
       "      <td>Blue</td>\n",
       "      <td>Black</td>\n",
       "      <td>None reported</td>\n",
       "      <td>NaN</td>\n",
       "      <td>$54,598</td>\n",
       "    </tr>\n",
       "    <tr>\n",
       "      <th>3</th>\n",
       "      <td>INFINITI</td>\n",
       "      <td>Q50 Hybrid Sport</td>\n",
       "      <td>2015</td>\n",
       "      <td>88900</td>\n",
       "      <td>Hybrid</td>\n",
       "      <td>354.0HP 3.5L V6 Cylinder Engine Gas/Electric H...</td>\n",
       "      <td>7-Speed A/T</td>\n",
       "      <td>Black</td>\n",
       "      <td>Black</td>\n",
       "      <td>None reported</td>\n",
       "      <td>Yes</td>\n",
       "      <td>$15,500</td>\n",
       "    </tr>\n",
       "    <tr>\n",
       "      <th>4</th>\n",
       "      <td>Audi</td>\n",
       "      <td>Q3 45 S line Premium Plus</td>\n",
       "      <td>2021</td>\n",
       "      <td>9835</td>\n",
       "      <td>Gasoline</td>\n",
       "      <td>2.0L I4 16V GDI DOHC Turbo</td>\n",
       "      <td>8-Speed Automatic</td>\n",
       "      <td>Glacier White Metallic</td>\n",
       "      <td>Black</td>\n",
       "      <td>None reported</td>\n",
       "      <td>NaN</td>\n",
       "      <td>$34,999</td>\n",
       "    </tr>\n",
       "  </tbody>\n",
       "</table>\n",
       "</div>"
      ],
      "text/plain": [
       "      brand                            model  model_year  milage  \\\n",
       "0      Ford  Utility Police Interceptor Base        2013   51000   \n",
       "1   Hyundai                     Palisade SEL        2021   34742   \n",
       "2     Lexus                    RX 350 RX 350        2022   22372   \n",
       "3  INFINITI                 Q50 Hybrid Sport        2015   88900   \n",
       "4      Audi        Q3 45 S line Premium Plus        2021    9835   \n",
       "\n",
       "       fuel_type                                             engine  \\\n",
       "0  E85 Flex Fuel  300.0HP 3.7L V6 Cylinder Engine Flex Fuel Capa...   \n",
       "1       Gasoline                               3.8L V6 24V GDI DOHC   \n",
       "2       Gasoline                                     3.5 Liter DOHC   \n",
       "3         Hybrid  354.0HP 3.5L V6 Cylinder Engine Gas/Electric H...   \n",
       "4       Gasoline                         2.0L I4 16V GDI DOHC Turbo   \n",
       "\n",
       "        transmission                 ext_col int_col  \\\n",
       "0        6-Speed A/T                   Black   Black   \n",
       "1  8-Speed Automatic         Moonlight Cloud    Gray   \n",
       "2          Automatic                    Blue   Black   \n",
       "3        7-Speed A/T                   Black   Black   \n",
       "4  8-Speed Automatic  Glacier White Metallic   Black   \n",
       "\n",
       "                                 accident clean_title    price  \n",
       "0  At least 1 accident or damage reported         Yes  $10,300  \n",
       "1  At least 1 accident or damage reported         Yes  $38,005  \n",
       "2                           None reported         NaN  $54,598  \n",
       "3                           None reported         Yes  $15,500  \n",
       "4                           None reported         NaN  $34,999  "
      ]
     },
     "execution_count": 10,
     "metadata": {},
     "output_type": "execute_result"
    }
   ],
   "source": [
    "# Remove ' mi.' suffix and convert to integer\n",
    "data['milage'] = data['milage'].str.replace(' mi.', '').str.replace(',', '').astype(int)\n",
    "\n",
    "# Display the first few rows to verify the changes\n",
    "data.head()"
   ]
  },
  {
   "cell_type": "code",
   "execution_count": 11,
   "metadata": {},
   "outputs": [
    {
     "data": {
      "text/plain": [
       "fuel_type\n",
       "Gasoline          3309\n",
       "Hybrid             194\n",
       "E85 Flex Fuel      139\n",
       "Diesel             116\n",
       "–                   45\n",
       "Plug-In Hybrid      34\n",
       "not supported        2\n",
       "Name: count, dtype: int64"
      ]
     },
     "execution_count": 11,
     "metadata": {},
     "output_type": "execute_result"
    }
   ],
   "source": [
    "data['fuel_type'].value_counts()"
   ]
  },
  {
   "cell_type": "markdown",
   "metadata": {},
   "source": [
    "Interior Exterior Colors"
   ]
  },
  {
   "cell_type": "code",
   "execution_count": 12,
   "metadata": {},
   "outputs": [
    {
     "name": "stdout",
     "output_type": "stream",
     "text": [
      "ext_color_general\n",
      "Black     1016\n",
      "White      922\n",
      "Gray       546\n",
      "Silver     421\n",
      "Blue       395\n",
      "Red        312\n",
      "Other      107\n",
      "Brown       88\n",
      "Green       80\n",
      "Gold        42\n",
      "Orange      37\n",
      "Yellow      30\n",
      "Purple      12\n",
      "Pink         1\n",
      "Name: count, dtype: int64\n"
     ]
    }
   ],
   "source": [
    "def categorize_color(color_str):\n",
    "    color_str = str(color_str).lower()\n",
    "    \n",
    "    if 'black' in color_str:\n",
    "        return 'Black'\n",
    "    elif 'white' in color_str:\n",
    "        return 'White'\n",
    "    elif 'gray' in color_str or 'grey' in color_str:\n",
    "        return 'Gray'\n",
    "    elif 'silver' in color_str:\n",
    "        return 'Silver'\n",
    "    elif 'blue' in color_str:\n",
    "        return 'Blue'\n",
    "    elif 'red' in color_str or 'burgundy' in color_str or 'maroon' in color_str:\n",
    "        return 'Red'\n",
    "    elif 'green' in color_str:\n",
    "        return 'Green'\n",
    "    elif 'brown' in color_str or 'beige' in color_str or 'tan' in color_str:\n",
    "        return 'Brown'\n",
    "    elif 'gold' in color_str:\n",
    "        return 'Gold'\n",
    "    elif 'yellow' in color_str:\n",
    "        return 'Yellow'\n",
    "    elif 'orange' in color_str:\n",
    "        return 'Orange'\n",
    "    elif 'purple' in color_str:\n",
    "        return 'Purple'\n",
    "    elif 'pink' in color_str:\n",
    "        return 'Pink'\n",
    "    else:\n",
    "        return 'Other'\n",
    "\n",
    "data['ext_color_general'] = data['ext_col'].apply(categorize_color)\n",
    "\n",
    "# Display value counts of the new column\n",
    "print(data['ext_color_general'].value_counts())"
   ]
  },
  {
   "cell_type": "code",
   "execution_count": 13,
   "metadata": {},
   "outputs": [
    {
     "name": "stdout",
     "output_type": "stream",
     "text": [
      "int_color_general\n",
      "Black     2155\n",
      "Brown      722\n",
      "Gray       484\n",
      "Other      292\n",
      "Red        134\n",
      "White      131\n",
      "Blue        32\n",
      "Orange      23\n",
      "Silver      16\n",
      "Gold        10\n",
      "Green        8\n",
      "Yellow       2\n",
      "Name: count, dtype: int64\n"
     ]
    }
   ],
   "source": [
    "data['int_color_general'] = data['int_col'].apply(categorize_color)\n",
    "print(data['int_color_general'].value_counts())"
   ]
  },
  {
   "cell_type": "code",
   "execution_count": 14,
   "metadata": {},
   "outputs": [
    {
     "data": {
      "text/plain": [
       "accident\n",
       "None reported                             2910\n",
       "At least 1 accident or damage reported     986\n",
       "Name: count, dtype: int64"
      ]
     },
     "execution_count": 14,
     "metadata": {},
     "output_type": "execute_result"
    }
   ],
   "source": [
    "data['accident'].value_counts()"
   ]
  },
  {
   "cell_type": "code",
   "execution_count": 15,
   "metadata": {},
   "outputs": [
    {
     "data": {
      "text/plain": [
       "clean_title\n",
       "Yes    3413\n",
       "Name: count, dtype: int64"
      ]
     },
     "execution_count": 15,
     "metadata": {},
     "output_type": "execute_result"
    }
   ],
   "source": [
    "data['clean_title'].value_counts()"
   ]
  },
  {
   "cell_type": "code",
   "execution_count": 16,
   "metadata": {},
   "outputs": [],
   "source": [
    "data['clean_title'] = data['clean_title'].fillna('Not Available')"
   ]
  },
  {
   "cell_type": "code",
   "execution_count": 17,
   "metadata": {},
   "outputs": [
    {
     "data": {
      "text/plain": [
       "clean_title\n",
       "Yes              3413\n",
       "Not Available     596\n",
       "Name: count, dtype: int64"
      ]
     },
     "execution_count": 17,
     "metadata": {},
     "output_type": "execute_result"
    }
   ],
   "source": [
    "data['clean_title'].value_counts()"
   ]
  },
  {
   "cell_type": "markdown",
   "metadata": {},
   "source": [
    "**Feature Engineering**"
   ]
  },
  {
   "cell_type": "markdown",
   "metadata": {},
   "source": [
    "Engine Liter Size"
   ]
  },
  {
   "cell_type": "code",
   "execution_count": 18,
   "metadata": {},
   "outputs": [
    {
     "data": {
      "text/html": [
       "<div>\n",
       "<style scoped>\n",
       "    .dataframe tbody tr th:only-of-type {\n",
       "        vertical-align: middle;\n",
       "    }\n",
       "\n",
       "    .dataframe tbody tr th {\n",
       "        vertical-align: top;\n",
       "    }\n",
       "\n",
       "    .dataframe thead th {\n",
       "        text-align: right;\n",
       "    }\n",
       "</style>\n",
       "<table border=\"1\" class=\"dataframe\">\n",
       "  <thead>\n",
       "    <tr style=\"text-align: right;\">\n",
       "      <th></th>\n",
       "      <th>engine</th>\n",
       "      <th>engine_size</th>\n",
       "    </tr>\n",
       "  </thead>\n",
       "  <tbody>\n",
       "    <tr>\n",
       "      <th>0</th>\n",
       "      <td>300.0HP 3.7L V6 Cylinder Engine Flex Fuel Capa...</td>\n",
       "      <td>3.7</td>\n",
       "    </tr>\n",
       "    <tr>\n",
       "      <th>1</th>\n",
       "      <td>3.8L V6 24V GDI DOHC</td>\n",
       "      <td>3.8</td>\n",
       "    </tr>\n",
       "    <tr>\n",
       "      <th>2</th>\n",
       "      <td>3.5 Liter DOHC</td>\n",
       "      <td>3.5</td>\n",
       "    </tr>\n",
       "    <tr>\n",
       "      <th>3</th>\n",
       "      <td>354.0HP 3.5L V6 Cylinder Engine Gas/Electric H...</td>\n",
       "      <td>3.5</td>\n",
       "    </tr>\n",
       "    <tr>\n",
       "      <th>4</th>\n",
       "      <td>2.0L I4 16V GDI DOHC Turbo</td>\n",
       "      <td>2.0</td>\n",
       "    </tr>\n",
       "  </tbody>\n",
       "</table>\n",
       "</div>"
      ],
      "text/plain": [
       "                                              engine  engine_size\n",
       "0  300.0HP 3.7L V6 Cylinder Engine Flex Fuel Capa...          3.7\n",
       "1                               3.8L V6 24V GDI DOHC          3.8\n",
       "2                                     3.5 Liter DOHC          3.5\n",
       "3  354.0HP 3.5L V6 Cylinder Engine Gas/Electric H...          3.5\n",
       "4                         2.0L I4 16V GDI DOHC Turbo          2.0"
      ]
     },
     "execution_count": 18,
     "metadata": {},
     "output_type": "execute_result"
    }
   ],
   "source": [
    "import re\n",
    "\n",
    "def extract_liter_size(engine_str):\n",
    "    if pd.isna(engine_str):\n",
    "        return None\n",
    "    # Search for a number (with optional decimal) followed by L or Liter\n",
    "    match = re.search(r'(\\d+\\.?\\d*)\\s*[L](?:iter)?', engine_str)\n",
    "    return float(match.group(1)) if match else None\n",
    "\n",
    "data['engine_size'] = data['engine'].apply(extract_liter_size)\n",
    "\n",
    "# Display the first few rows to verify\n",
    "data[['engine', 'engine_size']].head()"
   ]
  },
  {
   "cell_type": "markdown",
   "metadata": {},
   "source": [
    "brand country"
   ]
  },
  {
   "cell_type": "code",
   "execution_count": 19,
   "metadata": {},
   "outputs": [
    {
     "data": {
      "text/html": [
       "<div>\n",
       "<style scoped>\n",
       "    .dataframe tbody tr th:only-of-type {\n",
       "        vertical-align: middle;\n",
       "    }\n",
       "\n",
       "    .dataframe tbody tr th {\n",
       "        vertical-align: top;\n",
       "    }\n",
       "\n",
       "    .dataframe thead th {\n",
       "        text-align: right;\n",
       "    }\n",
       "</style>\n",
       "<table border=\"1\" class=\"dataframe\">\n",
       "  <thead>\n",
       "    <tr style=\"text-align: right;\">\n",
       "      <th></th>\n",
       "      <th>brand</th>\n",
       "      <th>model</th>\n",
       "      <th>model_year</th>\n",
       "      <th>milage</th>\n",
       "      <th>fuel_type</th>\n",
       "      <th>engine</th>\n",
       "      <th>transmission</th>\n",
       "      <th>ext_col</th>\n",
       "      <th>int_col</th>\n",
       "      <th>accident</th>\n",
       "      <th>clean_title</th>\n",
       "      <th>price</th>\n",
       "      <th>ext_color_general</th>\n",
       "      <th>int_color_general</th>\n",
       "      <th>engine_size</th>\n",
       "      <th>country</th>\n",
       "    </tr>\n",
       "  </thead>\n",
       "  <tbody>\n",
       "    <tr>\n",
       "      <th>4004</th>\n",
       "      <td>Bentley</td>\n",
       "      <td>Continental GT Speed</td>\n",
       "      <td>2023</td>\n",
       "      <td>714</td>\n",
       "      <td>Gasoline</td>\n",
       "      <td>6.0L W12 48V PDI DOHC Twin Turbo</td>\n",
       "      <td>8-Speed Automatic with Auto-Shift</td>\n",
       "      <td>C / C</td>\n",
       "      <td>Hotspur</td>\n",
       "      <td>None reported</td>\n",
       "      <td>Yes</td>\n",
       "      <td>$349,950</td>\n",
       "      <td>Other</td>\n",
       "      <td>Other</td>\n",
       "      <td>6.0</td>\n",
       "      <td>UK</td>\n",
       "    </tr>\n",
       "    <tr>\n",
       "      <th>4005</th>\n",
       "      <td>Audi</td>\n",
       "      <td>S4 3.0T Premium Plus</td>\n",
       "      <td>2022</td>\n",
       "      <td>10900</td>\n",
       "      <td>Gasoline</td>\n",
       "      <td>349.0HP 3.0L V6 Cylinder Engine Gasoline Fuel</td>\n",
       "      <td>Transmission w/Dual Shift Mode</td>\n",
       "      <td>Black</td>\n",
       "      <td>Black</td>\n",
       "      <td>None reported</td>\n",
       "      <td>Yes</td>\n",
       "      <td>$53,900</td>\n",
       "      <td>Black</td>\n",
       "      <td>Black</td>\n",
       "      <td>3.0</td>\n",
       "      <td>Germany</td>\n",
       "    </tr>\n",
       "    <tr>\n",
       "      <th>4006</th>\n",
       "      <td>Porsche</td>\n",
       "      <td>Taycan</td>\n",
       "      <td>2022</td>\n",
       "      <td>2116</td>\n",
       "      <td>NaN</td>\n",
       "      <td>Electric</td>\n",
       "      <td>Automatic</td>\n",
       "      <td>Black</td>\n",
       "      <td>Black</td>\n",
       "      <td>None reported</td>\n",
       "      <td>Not Available</td>\n",
       "      <td>$90,998</td>\n",
       "      <td>Black</td>\n",
       "      <td>Black</td>\n",
       "      <td>NaN</td>\n",
       "      <td>Germany</td>\n",
       "    </tr>\n",
       "    <tr>\n",
       "      <th>4007</th>\n",
       "      <td>Ford</td>\n",
       "      <td>F-150 Raptor</td>\n",
       "      <td>2020</td>\n",
       "      <td>33000</td>\n",
       "      <td>Gasoline</td>\n",
       "      <td>450.0HP 3.5L V6 Cylinder Engine Gasoline Fuel</td>\n",
       "      <td>A/T</td>\n",
       "      <td>Blue</td>\n",
       "      <td>Black</td>\n",
       "      <td>None reported</td>\n",
       "      <td>Yes</td>\n",
       "      <td>$62,999</td>\n",
       "      <td>Blue</td>\n",
       "      <td>Black</td>\n",
       "      <td>3.5</td>\n",
       "      <td>US</td>\n",
       "    </tr>\n",
       "    <tr>\n",
       "      <th>4008</th>\n",
       "      <td>BMW</td>\n",
       "      <td>X3 xDrive30i</td>\n",
       "      <td>2020</td>\n",
       "      <td>43000</td>\n",
       "      <td>Gasoline</td>\n",
       "      <td>248.0HP 2.0L 4 Cylinder Engine Gasoline Fuel</td>\n",
       "      <td>A/T</td>\n",
       "      <td>Gray</td>\n",
       "      <td>Brown</td>\n",
       "      <td>At least 1 accident or damage reported</td>\n",
       "      <td>Yes</td>\n",
       "      <td>$40,000</td>\n",
       "      <td>Gray</td>\n",
       "      <td>Brown</td>\n",
       "      <td>2.0</td>\n",
       "      <td>Germany</td>\n",
       "    </tr>\n",
       "  </tbody>\n",
       "</table>\n",
       "</div>"
      ],
      "text/plain": [
       "        brand                 model  model_year  milage fuel_type  \\\n",
       "4004  Bentley  Continental GT Speed        2023     714  Gasoline   \n",
       "4005     Audi  S4 3.0T Premium Plus        2022   10900  Gasoline   \n",
       "4006  Porsche                Taycan        2022    2116       NaN   \n",
       "4007     Ford          F-150 Raptor        2020   33000  Gasoline   \n",
       "4008      BMW          X3 xDrive30i        2020   43000  Gasoline   \n",
       "\n",
       "                                             engine  \\\n",
       "4004               6.0L W12 48V PDI DOHC Twin Turbo   \n",
       "4005  349.0HP 3.0L V6 Cylinder Engine Gasoline Fuel   \n",
       "4006                                       Electric   \n",
       "4007  450.0HP 3.5L V6 Cylinder Engine Gasoline Fuel   \n",
       "4008   248.0HP 2.0L 4 Cylinder Engine Gasoline Fuel   \n",
       "\n",
       "                           transmission ext_col  int_col  \\\n",
       "4004  8-Speed Automatic with Auto-Shift   C / C  Hotspur   \n",
       "4005     Transmission w/Dual Shift Mode   Black    Black   \n",
       "4006                          Automatic   Black    Black   \n",
       "4007                                A/T    Blue    Black   \n",
       "4008                                A/T    Gray    Brown   \n",
       "\n",
       "                                    accident    clean_title     price  \\\n",
       "4004                           None reported            Yes  $349,950   \n",
       "4005                           None reported            Yes   $53,900   \n",
       "4006                           None reported  Not Available   $90,998   \n",
       "4007                           None reported            Yes   $62,999   \n",
       "4008  At least 1 accident or damage reported            Yes   $40,000   \n",
       "\n",
       "     ext_color_general int_color_general  engine_size  country  \n",
       "4004             Other             Other          6.0       UK  \n",
       "4005             Black             Black          3.0  Germany  \n",
       "4006             Black             Black          NaN  Germany  \n",
       "4007              Blue             Black          3.5       US  \n",
       "4008              Gray             Brown          2.0  Germany  "
      ]
     },
     "execution_count": 19,
     "metadata": {},
     "output_type": "execute_result"
    }
   ],
   "source": [
    "# Dictionary mapping brands to their respective countries\n",
    "brand_country = {\n",
    "    'Ford': 'US', 'Chevrolet': 'US', 'Tesla': 'US', 'Dodge': 'US', 'Jeep': 'US',\n",
    "    'Hyundai': 'Korea', 'Kia': 'Korea', 'Genesis': 'Korea', 'Lincoln': 'US',\n",
    "    'Toyota': 'Japan', 'Honda': 'Japan', 'Nissan': 'Japan', 'Mazda': 'Japan', 'Subaru': 'Japan', 'Lexus': 'Japan', 'Mitsubishi': 'Japan', 'INFINITI': 'Japan', 'Acura': 'Japan',\n",
    "    'BMW': 'Germany', 'Mercedes-Benz': 'Germany', 'Audi': 'Germany', 'Volkswagen': 'Germany', 'Porsche': 'Germany', 'Opel': 'Germany',\n",
    "    'Jaguar': 'UK', 'Land Rover': 'UK', 'Bentley': 'UK', 'Mini': 'UK', 'Rolls-Royce': 'UK',\n",
    "    'Volvo': 'Sweden', 'Saab': 'Sweden',\n",
    "    'Fiat': 'Italy', 'Alfa Romeo': 'Italy', 'Ferrari': 'Italy', 'Lamborghini': 'Italy', 'Maserati': 'Italy',\n",
    "    'Peugeot': 'France', 'Renault': 'France', 'Citroen': 'France',\n",
    "    'Aston Martin': 'UK', 'McLaren': 'UK', 'Land': 'UK', 'Lotus': 'UK'\n",
    "}\n",
    "\n",
    "# Add a new column 'country' to the dataframe\n",
    "data['country'] = data['brand'].map(brand_country)\n",
    "\n",
    "# Display the first few rows of the updated dataframe\n",
    "data.tail(5)"
   ]
  },
  {
   "cell_type": "code",
   "execution_count": 20,
   "metadata": {},
   "outputs": [
    {
     "data": {
      "text/plain": [
       "array(['US', 'Korea', 'Japan', 'Germany', 'UK', nan, 'Sweden', 'Italy'],\n",
       "      dtype=object)"
      ]
     },
     "execution_count": 20,
     "metadata": {},
     "output_type": "execute_result"
    }
   ],
   "source": [
    "data['country'].unique()"
   ]
  },
  {
   "cell_type": "markdown",
   "metadata": {},
   "source": [
    "car ages"
   ]
  },
  {
   "cell_type": "code",
   "execution_count": 21,
   "metadata": {},
   "outputs": [
    {
     "data": {
      "text/plain": [
       "model_year\n",
       "2022    354\n",
       "2021    350\n",
       "2020    322\n",
       "2018    315\n",
       "2019    297\n",
       "2016    268\n",
       "2017    259\n",
       "2015    228\n",
       "2023    226\n",
       "2014    181\n",
       "2013    158\n",
       "2012    141\n",
       "2011    124\n",
       "2008    113\n",
       "2010    100\n",
       "2007     98\n",
       "2005     72\n",
       "2009     72\n",
       "2006     66\n",
       "2004     60\n",
       "2003     49\n",
       "2001     34\n",
       "2002     32\n",
       "2000     17\n",
       "1999     15\n",
       "1998     11\n",
       "1993      9\n",
       "1997      9\n",
       "1996      8\n",
       "1994      7\n",
       "2024      6\n",
       "1995      6\n",
       "1992      1\n",
       "1974      1\n",
       "Name: count, dtype: int64"
      ]
     },
     "execution_count": 21,
     "metadata": {},
     "output_type": "execute_result"
    }
   ],
   "source": [
    "data['model_year'].value_counts()"
   ]
  },
  {
   "cell_type": "code",
   "execution_count": 22,
   "metadata": {},
   "outputs": [],
   "source": [
    "data['car_age'] = 2025 - data['model_year']"
   ]
  },
  {
   "cell_type": "code",
   "execution_count": 23,
   "metadata": {},
   "outputs": [
    {
     "data": {
      "text/plain": [
       "Index(['brand', 'model', 'model_year', 'milage', 'fuel_type', 'engine',\n",
       "       'transmission', 'ext_col', 'int_col', 'accident', 'clean_title',\n",
       "       'price', 'ext_color_general', 'int_color_general', 'engine_size',\n",
       "       'country', 'car_age'],\n",
       "      dtype='object')"
      ]
     },
     "execution_count": 23,
     "metadata": {},
     "output_type": "execute_result"
    }
   ],
   "source": [
    "data.columns"
   ]
  },
  {
   "cell_type": "markdown",
   "metadata": {},
   "source": [
    "Transmission"
   ]
  },
  {
   "cell_type": "code",
   "execution_count": 24,
   "metadata": {},
   "outputs": [
    {
     "data": {
      "text/html": [
       "<div>\n",
       "<style scoped>\n",
       "    .dataframe tbody tr th:only-of-type {\n",
       "        vertical-align: middle;\n",
       "    }\n",
       "\n",
       "    .dataframe tbody tr th {\n",
       "        vertical-align: top;\n",
       "    }\n",
       "\n",
       "    .dataframe thead th {\n",
       "        text-align: right;\n",
       "    }\n",
       "</style>\n",
       "<table border=\"1\" class=\"dataframe\">\n",
       "  <thead>\n",
       "    <tr style=\"text-align: right;\">\n",
       "      <th></th>\n",
       "      <th>transmission</th>\n",
       "      <th>transmission_type</th>\n",
       "    </tr>\n",
       "  </thead>\n",
       "  <tbody>\n",
       "    <tr>\n",
       "      <th>0</th>\n",
       "      <td>6-Speed A/T</td>\n",
       "      <td>Automatic</td>\n",
       "    </tr>\n",
       "    <tr>\n",
       "      <th>1</th>\n",
       "      <td>8-Speed Automatic</td>\n",
       "      <td>Automatic</td>\n",
       "    </tr>\n",
       "    <tr>\n",
       "      <th>2</th>\n",
       "      <td>Automatic</td>\n",
       "      <td>Automatic</td>\n",
       "    </tr>\n",
       "    <tr>\n",
       "      <th>3</th>\n",
       "      <td>7-Speed A/T</td>\n",
       "      <td>Automatic</td>\n",
       "    </tr>\n",
       "    <tr>\n",
       "      <th>4</th>\n",
       "      <td>8-Speed Automatic</td>\n",
       "      <td>Automatic</td>\n",
       "    </tr>\n",
       "  </tbody>\n",
       "</table>\n",
       "</div>"
      ],
      "text/plain": [
       "        transmission transmission_type\n",
       "0        6-Speed A/T         Automatic\n",
       "1  8-Speed Automatic         Automatic\n",
       "2          Automatic         Automatic\n",
       "3        7-Speed A/T         Automatic\n",
       "4  8-Speed Automatic         Automatic"
      ]
     },
     "execution_count": 24,
     "metadata": {},
     "output_type": "execute_result"
    }
   ],
   "source": [
    "def categorize_transmission(transmission_str):\n",
    "    if 'A/T' in transmission_str or 'Automatic' in transmission_str:\n",
    "        return 'Automatic'\n",
    "    else:\n",
    "        return 'Manual'\n",
    "\n",
    "data['transmission_type'] = data['transmission'].apply(categorize_transmission)\n",
    "\n",
    "# Display the first few rows to verify the changes\n",
    "data[['transmission', 'transmission_type']].head()"
   ]
  },
  {
   "cell_type": "code",
   "execution_count": 25,
   "metadata": {},
   "outputs": [
    {
     "data": {
      "text/html": [
       "<div>\n",
       "<style scoped>\n",
       "    .dataframe tbody tr th:only-of-type {\n",
       "        vertical-align: middle;\n",
       "    }\n",
       "\n",
       "    .dataframe tbody tr th {\n",
       "        vertical-align: top;\n",
       "    }\n",
       "\n",
       "    .dataframe thead th {\n",
       "        text-align: right;\n",
       "    }\n",
       "</style>\n",
       "<table border=\"1\" class=\"dataframe\">\n",
       "  <thead>\n",
       "    <tr style=\"text-align: right;\">\n",
       "      <th></th>\n",
       "      <th>price</th>\n",
       "    </tr>\n",
       "  </thead>\n",
       "  <tbody>\n",
       "    <tr>\n",
       "      <th>0</th>\n",
       "      <td>10300</td>\n",
       "    </tr>\n",
       "    <tr>\n",
       "      <th>1</th>\n",
       "      <td>38005</td>\n",
       "    </tr>\n",
       "    <tr>\n",
       "      <th>2</th>\n",
       "      <td>54598</td>\n",
       "    </tr>\n",
       "    <tr>\n",
       "      <th>3</th>\n",
       "      <td>15500</td>\n",
       "    </tr>\n",
       "    <tr>\n",
       "      <th>4</th>\n",
       "      <td>34999</td>\n",
       "    </tr>\n",
       "  </tbody>\n",
       "</table>\n",
       "</div>"
      ],
      "text/plain": [
       "   price\n",
       "0  10300\n",
       "1  38005\n",
       "2  54598\n",
       "3  15500\n",
       "4  34999"
      ]
     },
     "execution_count": 25,
     "metadata": {},
     "output_type": "execute_result"
    }
   ],
   "source": [
    "# Remove '$' and ',' from price and convert to integer\n",
    "data['price'] = data['price'].str.replace('$', '').str.replace(',', '').astype(int)\n",
    "\n",
    "# Display first few rows to verify the changes\n",
    "data[['price']].head()"
   ]
  },
  {
   "cell_type": "code",
   "execution_count": 26,
   "metadata": {},
   "outputs": [
    {
     "data": {
      "text/plain": [
       "brand                 object\n",
       "model                 object\n",
       "model_year             int64\n",
       "milage                 int64\n",
       "fuel_type             object\n",
       "engine                object\n",
       "transmission          object\n",
       "ext_col               object\n",
       "int_col               object\n",
       "accident              object\n",
       "clean_title           object\n",
       "price                  int64\n",
       "ext_color_general     object\n",
       "int_color_general     object\n",
       "engine_size          float64\n",
       "country               object\n",
       "car_age                int64\n",
       "transmission_type     object\n",
       "dtype: object"
      ]
     },
     "execution_count": 26,
     "metadata": {},
     "output_type": "execute_result"
    }
   ],
   "source": [
    "data.dtypes"
   ]
  },
  {
   "cell_type": "markdown",
   "metadata": {},
   "source": [
    "Engine Size should be categorical"
   ]
  },
  {
   "cell_type": "code",
   "execution_count": 27,
   "metadata": {},
   "outputs": [],
   "source": [
    "data['engine_size'] = data['engine_size'].round().astype('Int64')  # Using Int64 to handle NULL values"
   ]
  },
  {
   "cell_type": "code",
   "execution_count": 28,
   "metadata": {},
   "outputs": [],
   "source": [
    "data['engine_size'] = data['engine_size'].astype('category')"
   ]
  },
  {
   "cell_type": "markdown",
   "metadata": {},
   "source": [
    "**Train Test Split**"
   ]
  },
  {
   "cell_type": "code",
   "execution_count": 29,
   "metadata": {},
   "outputs": [],
   "source": [
    "train_data = data.sample(frac=0.8, random_state=42)\n",
    "test_data = data.drop(train_data.index)"
   ]
  },
  {
   "cell_type": "code",
   "execution_count": 30,
   "metadata": {},
   "outputs": [
    {
     "data": {
      "text/plain": [
       "(3207, 802)"
      ]
     },
     "execution_count": 30,
     "metadata": {},
     "output_type": "execute_result"
    }
   ],
   "source": [
    "len(train_data), len(test_data)"
   ]
  },
  {
   "cell_type": "code",
   "execution_count": 31,
   "metadata": {},
   "outputs": [
    {
     "data": {
      "text/plain": [
       "1      38005\n",
       "4      34999\n",
       "11    184606\n",
       "16    250000\n",
       "19     68750\n",
       "Name: price, dtype: int64"
      ]
     },
     "execution_count": 31,
     "metadata": {},
     "output_type": "execute_result"
    }
   ],
   "source": [
    "# Separate features and target variable from training data\n",
    "X_train = train_data.drop(columns=['price'])\n",
    "y_train = train_data['price']\n",
    "\n",
    "# Separate features and target variable from test data\n",
    "X_test = test_data.drop(columns=['price'])\n",
    "y_test = test_data['price']\n",
    "\n",
    "y_test.head()"
   ]
  },
  {
   "cell_type": "markdown",
   "metadata": {},
   "source": [
    "**One hot Encoding**"
   ]
  },
  {
   "cell_type": "code",
   "execution_count": 32,
   "metadata": {},
   "outputs": [
    {
     "data": {
      "text/plain": [
       "Index(['brand', 'model', 'model_year', 'milage', 'fuel_type', 'engine',\n",
       "       'transmission', 'ext_col', 'int_col', 'accident', 'clean_title',\n",
       "       'price', 'ext_color_general', 'int_color_general', 'engine_size',\n",
       "       'country', 'car_age', 'transmission_type'],\n",
       "      dtype='object')"
      ]
     },
     "execution_count": 32,
     "metadata": {},
     "output_type": "execute_result"
    }
   ],
   "source": [
    "data.columns"
   ]
  },
  {
   "cell_type": "code",
   "execution_count": 33,
   "metadata": {},
   "outputs": [
    {
     "data": {
      "text/html": [
       "<div>\n",
       "<style scoped>\n",
       "    .dataframe tbody tr th:only-of-type {\n",
       "        vertical-align: middle;\n",
       "    }\n",
       "\n",
       "    .dataframe tbody tr th {\n",
       "        vertical-align: top;\n",
       "    }\n",
       "\n",
       "    .dataframe thead th {\n",
       "        text-align: right;\n",
       "    }\n",
       "</style>\n",
       "<table border=\"1\" class=\"dataframe\">\n",
       "  <thead>\n",
       "    <tr style=\"text-align: right;\">\n",
       "      <th></th>\n",
       "      <th>model_year</th>\n",
       "      <th>milage</th>\n",
       "      <th>car_age</th>\n",
       "      <th>brand_Alfa</th>\n",
       "      <th>brand_Aston</th>\n",
       "      <th>brand_Audi</th>\n",
       "      <th>brand_BMW</th>\n",
       "      <th>brand_Bentley</th>\n",
       "      <th>brand_Bugatti</th>\n",
       "      <th>brand_Buick</th>\n",
       "      <th>...</th>\n",
       "      <th>country_UK</th>\n",
       "      <th>country_US</th>\n",
       "      <th>transmission_type_Manual</th>\n",
       "      <th>engine_size_2</th>\n",
       "      <th>engine_size_3</th>\n",
       "      <th>engine_size_4</th>\n",
       "      <th>engine_size_5</th>\n",
       "      <th>engine_size_6</th>\n",
       "      <th>engine_size_7</th>\n",
       "      <th>engine_size_8</th>\n",
       "    </tr>\n",
       "  </thead>\n",
       "  <tbody>\n",
       "    <tr>\n",
       "      <th>2580</th>\n",
       "      <td>2018</td>\n",
       "      <td>50992</td>\n",
       "      <td>7</td>\n",
       "      <td>0</td>\n",
       "      <td>0</td>\n",
       "      <td>0</td>\n",
       "      <td>0</td>\n",
       "      <td>0</td>\n",
       "      <td>0</td>\n",
       "      <td>0</td>\n",
       "      <td>...</td>\n",
       "      <td>0</td>\n",
       "      <td>0</td>\n",
       "      <td>0</td>\n",
       "      <td>0</td>\n",
       "      <td>0</td>\n",
       "      <td>1</td>\n",
       "      <td>0</td>\n",
       "      <td>0</td>\n",
       "      <td>0</td>\n",
       "      <td>0</td>\n",
       "    </tr>\n",
       "    <tr>\n",
       "      <th>3660</th>\n",
       "      <td>2004</td>\n",
       "      <td>64500</td>\n",
       "      <td>21</td>\n",
       "      <td>0</td>\n",
       "      <td>0</td>\n",
       "      <td>0</td>\n",
       "      <td>0</td>\n",
       "      <td>0</td>\n",
       "      <td>0</td>\n",
       "      <td>0</td>\n",
       "      <td>...</td>\n",
       "      <td>0</td>\n",
       "      <td>1</td>\n",
       "      <td>0</td>\n",
       "      <td>0</td>\n",
       "      <td>1</td>\n",
       "      <td>0</td>\n",
       "      <td>0</td>\n",
       "      <td>0</td>\n",
       "      <td>0</td>\n",
       "      <td>0</td>\n",
       "    </tr>\n",
       "    <tr>\n",
       "      <th>897</th>\n",
       "      <td>2017</td>\n",
       "      <td>86000</td>\n",
       "      <td>8</td>\n",
       "      <td>0</td>\n",
       "      <td>0</td>\n",
       "      <td>0</td>\n",
       "      <td>0</td>\n",
       "      <td>0</td>\n",
       "      <td>0</td>\n",
       "      <td>0</td>\n",
       "      <td>...</td>\n",
       "      <td>0</td>\n",
       "      <td>0</td>\n",
       "      <td>0</td>\n",
       "      <td>0</td>\n",
       "      <td>0</td>\n",
       "      <td>0</td>\n",
       "      <td>0</td>\n",
       "      <td>0</td>\n",
       "      <td>1</td>\n",
       "      <td>0</td>\n",
       "    </tr>\n",
       "    <tr>\n",
       "      <th>2091</th>\n",
       "      <td>2013</td>\n",
       "      <td>24933</td>\n",
       "      <td>12</td>\n",
       "      <td>0</td>\n",
       "      <td>0</td>\n",
       "      <td>0</td>\n",
       "      <td>0</td>\n",
       "      <td>0</td>\n",
       "      <td>0</td>\n",
       "      <td>0</td>\n",
       "      <td>...</td>\n",
       "      <td>0</td>\n",
       "      <td>0</td>\n",
       "      <td>1</td>\n",
       "      <td>0</td>\n",
       "      <td>0</td>\n",
       "      <td>0</td>\n",
       "      <td>1</td>\n",
       "      <td>0</td>\n",
       "      <td>0</td>\n",
       "      <td>0</td>\n",
       "    </tr>\n",
       "    <tr>\n",
       "      <th>1044</th>\n",
       "      <td>2018</td>\n",
       "      <td>18500</td>\n",
       "      <td>7</td>\n",
       "      <td>0</td>\n",
       "      <td>0</td>\n",
       "      <td>0</td>\n",
       "      <td>0</td>\n",
       "      <td>0</td>\n",
       "      <td>0</td>\n",
       "      <td>0</td>\n",
       "      <td>...</td>\n",
       "      <td>0</td>\n",
       "      <td>1</td>\n",
       "      <td>1</td>\n",
       "      <td>0</td>\n",
       "      <td>0</td>\n",
       "      <td>0</td>\n",
       "      <td>1</td>\n",
       "      <td>0</td>\n",
       "      <td>0</td>\n",
       "      <td>0</td>\n",
       "    </tr>\n",
       "  </tbody>\n",
       "</table>\n",
       "<p>5 rows × 3281 columns</p>\n",
       "</div>"
      ],
      "text/plain": [
       "      model_year  milage  car_age  brand_Alfa  brand_Aston  brand_Audi  \\\n",
       "2580        2018   50992        7           0            0           0   \n",
       "3660        2004   64500       21           0            0           0   \n",
       "897         2017   86000        8           0            0           0   \n",
       "2091        2013   24933       12           0            0           0   \n",
       "1044        2018   18500        7           0            0           0   \n",
       "\n",
       "      brand_BMW  brand_Bentley  brand_Bugatti  brand_Buick  ...  country_UK  \\\n",
       "2580          0              0              0            0  ...           0   \n",
       "3660          0              0              0            0  ...           0   \n",
       "897           0              0              0            0  ...           0   \n",
       "2091          0              0              0            0  ...           0   \n",
       "1044          0              0              0            0  ...           0   \n",
       "\n",
       "      country_US  transmission_type_Manual  engine_size_2  engine_size_3  \\\n",
       "2580           0                         0              0              0   \n",
       "3660           1                         0              0              1   \n",
       "897            0                         0              0              0   \n",
       "2091           0                         1              0              0   \n",
       "1044           1                         1              0              0   \n",
       "\n",
       "      engine_size_4  engine_size_5  engine_size_6  engine_size_7  \\\n",
       "2580              1              0              0              0   \n",
       "3660              0              0              0              0   \n",
       "897               0              0              0              1   \n",
       "2091              0              1              0              0   \n",
       "1044              0              1              0              0   \n",
       "\n",
       "      engine_size_8  \n",
       "2580              0  \n",
       "3660              0  \n",
       "897               0  \n",
       "2091              0  \n",
       "1044              0  \n",
       "\n",
       "[5 rows x 3281 columns]"
      ]
     },
     "execution_count": 33,
     "metadata": {},
     "output_type": "execute_result"
    }
   ],
   "source": [
    "# List of categorical columns to encode\n",
    "categorical_columns = ['brand', 'model', 'fuel_type','engine', 'transmission', 'ext_col', \n",
    "                       'int_col', 'accident', 'clean_title', 'ext_color_general', \n",
    "                       'int_color_general', 'country', 'transmission_type', 'engine_size']\n",
    "\n",
    "# Perform one hot encoding on the categorical columns\n",
    "X_train_encoded = pd.get_dummies(X_train, columns=categorical_columns, drop_first=True, dtype=int)\n",
    "X_test_encoded = pd.get_dummies(X_test, columns=categorical_columns, drop_first=True, dtype=int)\n",
    "\n",
    "# Align the columns of X_test_encoded with X_train_encoded\n",
    "X_test_encoded = X_test_encoded.reindex(columns=X_train_encoded.columns, fill_value=0)\n",
    "\n",
    "X_train_encoded.head()"
   ]
  },
  {
   "cell_type": "markdown",
   "metadata": {},
   "source": [
    "Drop Cat Columns"
   ]
  },
  {
   "cell_type": "code",
   "execution_count": 34,
   "metadata": {},
   "outputs": [],
   "source": [
    "X_train = X_train.drop(columns=categorical_columns, errors='ignore')\n",
    "X_test = X_test.drop(columns=categorical_columns, errors='ignore')"
   ]
  },
  {
   "cell_type": "code",
   "execution_count": 35,
   "metadata": {},
   "outputs": [
    {
     "name": "stdout",
     "output_type": "stream",
     "text": [
      "Duplicate columns: []\n"
     ]
    }
   ],
   "source": [
    "duplicate_columns = X_train_encoded.columns[X_train_encoded.columns.duplicated()]\n",
    "print(f\"Duplicate columns: {duplicate_columns.tolist()}\")"
   ]
  },
  {
   "cell_type": "code",
   "execution_count": 36,
   "metadata": {},
   "outputs": [
    {
     "data": {
      "text/plain": [
       "Index(['model_year', 'milage', 'car_age'], dtype='object')"
      ]
     },
     "execution_count": 36,
     "metadata": {},
     "output_type": "execute_result"
    }
   ],
   "source": [
    "X_train.columns"
   ]
  },
  {
   "cell_type": "markdown",
   "metadata": {},
   "source": [
    "**Initial Model Building**"
   ]
  },
  {
   "cell_type": "code",
   "execution_count": 37,
   "metadata": {},
   "outputs": [],
   "source": [
    "import xgboost as xgb\n",
    "from sklearn.metrics import mean_squared_error, r2_score"
   ]
  },
  {
   "cell_type": "code",
   "execution_count": 38,
   "metadata": {},
   "outputs": [
    {
     "name": "stdout",
     "output_type": "stream",
     "text": [
      "Training MSE: 215305735.53213307\n",
      "Training R2: 0.9700962901115417\n"
     ]
    }
   ],
   "source": [
    "# Create DMatrix for XGBoost\n",
    "dtrain = xgb.DMatrix(X_train_encoded, label=y_train)\n",
    "\n",
    "# Define parameters for XGBoost\n",
    "params = {\n",
    "    'objective': 'reg:squarederror',\n",
    "    'max_depth': 6,\n",
    "    'eta': 0.1,\n",
    "    'seed': 42\n",
    "}\n",
    "\n",
    "# Train the model\n",
    "num_rounds = 100\n",
    "bst = xgb.train(params, dtrain, num_rounds)\n",
    "\n",
    "# Predict on the training set\n",
    "train_preds = bst.predict(dtrain)\n",
    "\n",
    "# Evaluate the model\n",
    "mse = mean_squared_error(y_train, train_preds)\n",
    "r2 = r2_score(y_train, train_preds)\n",
    "\n",
    "print(f\"Training MSE: {mse}\")\n",
    "print(f\"Training R2: {r2}\")"
   ]
  },
  {
   "cell_type": "code",
   "execution_count": 39,
   "metadata": {},
   "outputs": [
    {
     "name": "stdout",
     "output_type": "stream",
     "text": [
      "      Actual     Predicted\n",
      "2580   28000  37977.398438\n",
      "3660    5900  18254.238281\n",
      "897    41000  42725.839844\n",
      "2091   40250  48617.816406\n",
      "1044   77999  52537.996094\n",
      "2320   35899  33665.437500\n",
      "465    36000  46787.769531\n",
      "196    47214  63669.265625\n",
      "3113   30900  21404.517578\n",
      "3553   11000  11174.910156\n",
      "109    27000  25064.585938\n",
      "3230   30000  28670.089844\n",
      "2005   29999  35282.628906\n",
      "2463   37950  53599.917969\n",
      "2784   22500  23399.509766\n",
      "3788   15995  30661.169922\n",
      "1616   30490  34969.468750\n",
      "3838   79995  73220.078125\n",
      "2244    6499  16341.113281\n",
      "149    39999  35168.703125\n"
     ]
    }
   ],
   "source": [
    "\n",
    "# Create a DataFrame with actual and predicted values\n",
    "comparison_df = pd.DataFrame({'Actual': y_train, 'Predicted': train_preds})\n",
    "\n",
    "# Display the first few rows\n",
    "print(comparison_df.head(20))\n"
   ]
  },
  {
   "cell_type": "code",
   "execution_count": 46,
   "metadata": {},
   "outputs": [
    {
     "data": {
      "image/png": "[encoded data removed]",
      "text/plain": [
       "<Figure size 1000x1000 with 2 Axes>"
      ]
     },
     "metadata": {},
     "output_type": "display_data"
    }
   ],
   "source": [
    "import shap\n",
    "import matplotlib.pyplot as plt\n",
    "\n",
    "# Create SHAP explainer\n",
    "explainer = shap.Explainer(bst, X_train_encoded)\n",
    "\n",
    "# Compute SHAP values\n",
    "shap_values = explainer(X_train_encoded)\n",
    "\n",
    "# Summary plot - Feature importance visualization\n",
    "shap.summary_plot(shap_values, X_train_encoded, max_display=30, plot_size=[10,10])"
   ]
  },
  {
   "cell_type": "markdown",
   "metadata": {},
   "source": [
    "Hyperparameter Tuning"
   ]
  },
  {
   "cell_type": "code",
   "execution_count": 48,
   "metadata": {},
   "outputs": [
    {
     "name": "stdout",
     "output_type": "stream",
     "text": [
      "Fitting 3 folds for each of 2916 candidates, totalling 8748 fits\n"
     ]
    },
    {
     "ename": "KeyboardInterrupt",
     "evalue": "",
     "output_type": "error",
     "traceback": [
      "\u001b[1;31m---------------------------------------------------------------------------\u001b[0m",
      "\u001b[1;31mKeyboardInterrupt\u001b[0m                         Traceback (most recent call last)",
      "Cell \u001b[1;32mIn[48], line 29\u001b[0m\n\u001b[0;32m     19\u001b[0m grid_search \u001b[38;5;241m=\u001b[39m GridSearchCV(\n\u001b[0;32m     20\u001b[0m     estimator\u001b[38;5;241m=\u001b[39mxgb_model,\n\u001b[0;32m     21\u001b[0m     param_grid\u001b[38;5;241m=\u001b[39mparam_grid,\n\u001b[1;32m   (...)\u001b[0m\n\u001b[0;32m     25\u001b[0m     n_jobs\u001b[38;5;241m=\u001b[39m\u001b[38;5;241m-\u001b[39m\u001b[38;5;241m1\u001b[39m     \u001b[38;5;66;03m# Use all available CPU cores for parallel computation\u001b[39;00m\n\u001b[0;32m     26\u001b[0m )\n\u001b[0;32m     28\u001b[0m \u001b[38;5;66;03m# Run Grid Search (This might take 5-10 minutes)\u001b[39;00m\n\u001b[1;32m---> 29\u001b[0m \u001b[43mgrid_search\u001b[49m\u001b[38;5;241;43m.\u001b[39;49m\u001b[43mfit\u001b[49m\u001b[43m(\u001b[49m\u001b[43mX_train_encoded\u001b[49m\u001b[43m,\u001b[49m\u001b[43m \u001b[49m\u001b[43my_train\u001b[49m\u001b[43m)\u001b[49m\n\u001b[0;32m     31\u001b[0m \u001b[38;5;66;03m# Print the best parameters found\u001b[39;00m\n\u001b[0;32m     32\u001b[0m \u001b[38;5;28mprint\u001b[39m(\u001b[38;5;124m\"\u001b[39m\u001b[38;5;124mBest Parameters:\u001b[39m\u001b[38;5;124m\"\u001b[39m, grid_search\u001b[38;5;241m.\u001b[39mbest_params_)\n",
      "File \u001b[1;32mc:\\Users\\Max\\AppData\\Local\\Programs\\Python\\Python311\\Lib\\site-packages\\sklearn\\base.py:1473\u001b[0m, in \u001b[0;36m_fit_context.<locals>.decorator.<locals>.wrapper\u001b[1;34m(estimator, *args, **kwargs)\u001b[0m\n\u001b[0;32m   1466\u001b[0m     estimator\u001b[38;5;241m.\u001b[39m_validate_params()\n\u001b[0;32m   1468\u001b[0m \u001b[38;5;28;01mwith\u001b[39;00m config_context(\n\u001b[0;32m   1469\u001b[0m     skip_parameter_validation\u001b[38;5;241m=\u001b[39m(\n\u001b[0;32m   1470\u001b[0m         prefer_skip_nested_validation \u001b[38;5;129;01mor\u001b[39;00m global_skip_validation\n\u001b[0;32m   1471\u001b[0m     )\n\u001b[0;32m   1472\u001b[0m ):\n\u001b[1;32m-> 1473\u001b[0m     \u001b[38;5;28;01mreturn\u001b[39;00m \u001b[43mfit_method\u001b[49m\u001b[43m(\u001b[49m\u001b[43mestimator\u001b[49m\u001b[43m,\u001b[49m\u001b[43m \u001b[49m\u001b[38;5;241;43m*\u001b[39;49m\u001b[43margs\u001b[49m\u001b[43m,\u001b[49m\u001b[43m \u001b[49m\u001b[38;5;241;43m*\u001b[39;49m\u001b[38;5;241;43m*\u001b[39;49m\u001b[43mkwargs\u001b[49m\u001b[43m)\u001b[49m\n",
      "File \u001b[1;32mc:\\Users\\Max\\AppData\\Local\\Programs\\Python\\Python311\\Lib\\site-packages\\sklearn\\model_selection\\_search.py:1019\u001b[0m, in \u001b[0;36mBaseSearchCV.fit\u001b[1;34m(self, X, y, **params)\u001b[0m\n\u001b[0;32m   1013\u001b[0m     results \u001b[38;5;241m=\u001b[39m \u001b[38;5;28mself\u001b[39m\u001b[38;5;241m.\u001b[39m_format_results(\n\u001b[0;32m   1014\u001b[0m         all_candidate_params, n_splits, all_out, all_more_results\n\u001b[0;32m   1015\u001b[0m     )\n\u001b[0;32m   1017\u001b[0m     \u001b[38;5;28;01mreturn\u001b[39;00m results\n\u001b[1;32m-> 1019\u001b[0m \u001b[38;5;28;43mself\u001b[39;49m\u001b[38;5;241;43m.\u001b[39;49m\u001b[43m_run_search\u001b[49m\u001b[43m(\u001b[49m\u001b[43mevaluate_candidates\u001b[49m\u001b[43m)\u001b[49m\n\u001b[0;32m   1021\u001b[0m \u001b[38;5;66;03m# multimetric is determined here because in the case of a callable\u001b[39;00m\n\u001b[0;32m   1022\u001b[0m \u001b[38;5;66;03m# self.scoring the return type is only known after calling\u001b[39;00m\n\u001b[0;32m   1023\u001b[0m first_test_score \u001b[38;5;241m=\u001b[39m all_out[\u001b[38;5;241m0\u001b[39m][\u001b[38;5;124m\"\u001b[39m\u001b[38;5;124mtest_scores\u001b[39m\u001b[38;5;124m\"\u001b[39m]\n",
      "File \u001b[1;32mc:\\Users\\Max\\AppData\\Local\\Programs\\Python\\Python311\\Lib\\site-packages\\sklearn\\model_selection\\_search.py:1573\u001b[0m, in \u001b[0;36mGridSearchCV._run_search\u001b[1;34m(self, evaluate_candidates)\u001b[0m\n\u001b[0;32m   1571\u001b[0m \u001b[38;5;28;01mdef\u001b[39;00m \u001b[38;5;21m_run_search\u001b[39m(\u001b[38;5;28mself\u001b[39m, evaluate_candidates):\n\u001b[0;32m   1572\u001b[0m \u001b[38;5;250m    \u001b[39m\u001b[38;5;124;03m\"\"\"Search all candidates in param_grid\"\"\"\u001b[39;00m\n\u001b[1;32m-> 1573\u001b[0m     \u001b[43mevaluate_candidates\u001b[49m\u001b[43m(\u001b[49m\u001b[43mParameterGrid\u001b[49m\u001b[43m(\u001b[49m\u001b[38;5;28;43mself\u001b[39;49m\u001b[38;5;241;43m.\u001b[39;49m\u001b[43mparam_grid\u001b[49m\u001b[43m)\u001b[49m\u001b[43m)\u001b[49m\n",
      "File \u001b[1;32mc:\\Users\\Max\\AppData\\Local\\Programs\\Python\\Python311\\Lib\\site-packages\\sklearn\\model_selection\\_search.py:965\u001b[0m, in \u001b[0;36mBaseSearchCV.fit.<locals>.evaluate_candidates\u001b[1;34m(candidate_params, cv, more_results)\u001b[0m\n\u001b[0;32m    957\u001b[0m \u001b[38;5;28;01mif\u001b[39;00m \u001b[38;5;28mself\u001b[39m\u001b[38;5;241m.\u001b[39mverbose \u001b[38;5;241m>\u001b[39m \u001b[38;5;241m0\u001b[39m:\n\u001b[0;32m    958\u001b[0m     \u001b[38;5;28mprint\u001b[39m(\n\u001b[0;32m    959\u001b[0m         \u001b[38;5;124m\"\u001b[39m\u001b[38;5;124mFitting \u001b[39m\u001b[38;5;132;01m{0}\u001b[39;00m\u001b[38;5;124m folds for each of \u001b[39m\u001b[38;5;132;01m{1}\u001b[39;00m\u001b[38;5;124m candidates,\u001b[39m\u001b[38;5;124m\"\u001b[39m\n\u001b[0;32m    960\u001b[0m         \u001b[38;5;124m\"\u001b[39m\u001b[38;5;124m totalling \u001b[39m\u001b[38;5;132;01m{2}\u001b[39;00m\u001b[38;5;124m fits\u001b[39m\u001b[38;5;124m\"\u001b[39m\u001b[38;5;241m.\u001b[39mformat(\n\u001b[0;32m    961\u001b[0m             n_splits, n_candidates, n_candidates \u001b[38;5;241m*\u001b[39m n_splits\n\u001b[0;32m    962\u001b[0m         )\n\u001b[0;32m    963\u001b[0m     )\n\u001b[1;32m--> 965\u001b[0m out \u001b[38;5;241m=\u001b[39m \u001b[43mparallel\u001b[49m\u001b[43m(\u001b[49m\n\u001b[0;32m    966\u001b[0m \u001b[43m    \u001b[49m\u001b[43mdelayed\u001b[49m\u001b[43m(\u001b[49m\u001b[43m_fit_and_score\u001b[49m\u001b[43m)\u001b[49m\u001b[43m(\u001b[49m\n\u001b[0;32m    967\u001b[0m \u001b[43m        \u001b[49m\u001b[43mclone\u001b[49m\u001b[43m(\u001b[49m\u001b[43mbase_estimator\u001b[49m\u001b[43m)\u001b[49m\u001b[43m,\u001b[49m\n\u001b[0;32m    968\u001b[0m \u001b[43m        \u001b[49m\u001b[43mX\u001b[49m\u001b[43m,\u001b[49m\n\u001b[0;32m    969\u001b[0m \u001b[43m        \u001b[49m\u001b[43my\u001b[49m\u001b[43m,\u001b[49m\n\u001b[0;32m    970\u001b[0m \u001b[43m        \u001b[49m\u001b[43mtrain\u001b[49m\u001b[38;5;241;43m=\u001b[39;49m\u001b[43mtrain\u001b[49m\u001b[43m,\u001b[49m\n\u001b[0;32m    971\u001b[0m \u001b[43m        \u001b[49m\u001b[43mtest\u001b[49m\u001b[38;5;241;43m=\u001b[39;49m\u001b[43mtest\u001b[49m\u001b[43m,\u001b[49m\n\u001b[0;32m    972\u001b[0m \u001b[43m        \u001b[49m\u001b[43mparameters\u001b[49m\u001b[38;5;241;43m=\u001b[39;49m\u001b[43mparameters\u001b[49m\u001b[43m,\u001b[49m\n\u001b[0;32m    973\u001b[0m \u001b[43m        \u001b[49m\u001b[43msplit_progress\u001b[49m\u001b[38;5;241;43m=\u001b[39;49m\u001b[43m(\u001b[49m\u001b[43msplit_idx\u001b[49m\u001b[43m,\u001b[49m\u001b[43m \u001b[49m\u001b[43mn_splits\u001b[49m\u001b[43m)\u001b[49m\u001b[43m,\u001b[49m\n\u001b[0;32m    974\u001b[0m \u001b[43m        \u001b[49m\u001b[43mcandidate_progress\u001b[49m\u001b[38;5;241;43m=\u001b[39;49m\u001b[43m(\u001b[49m\u001b[43mcand_idx\u001b[49m\u001b[43m,\u001b[49m\u001b[43m \u001b[49m\u001b[43mn_candidates\u001b[49m\u001b[43m)\u001b[49m\u001b[43m,\u001b[49m\n\u001b[0;32m    975\u001b[0m \u001b[43m        \u001b[49m\u001b[38;5;241;43m*\u001b[39;49m\u001b[38;5;241;43m*\u001b[39;49m\u001b[43mfit_and_score_kwargs\u001b[49m\u001b[43m,\u001b[49m\n\u001b[0;32m    976\u001b[0m \u001b[43m    \u001b[49m\u001b[43m)\u001b[49m\n\u001b[0;32m    977\u001b[0m \u001b[43m    \u001b[49m\u001b[38;5;28;43;01mfor\u001b[39;49;00m\u001b[43m \u001b[49m\u001b[43m(\u001b[49m\u001b[43mcand_idx\u001b[49m\u001b[43m,\u001b[49m\u001b[43m \u001b[49m\u001b[43mparameters\u001b[49m\u001b[43m)\u001b[49m\u001b[43m,\u001b[49m\u001b[43m \u001b[49m\u001b[43m(\u001b[49m\u001b[43msplit_idx\u001b[49m\u001b[43m,\u001b[49m\u001b[43m \u001b[49m\u001b[43m(\u001b[49m\u001b[43mtrain\u001b[49m\u001b[43m,\u001b[49m\u001b[43m \u001b[49m\u001b[43mtest\u001b[49m\u001b[43m)\u001b[49m\u001b[43m)\u001b[49m\u001b[43m \u001b[49m\u001b[38;5;129;43;01min\u001b[39;49;00m\u001b[43m \u001b[49m\u001b[43mproduct\u001b[49m\u001b[43m(\u001b[49m\n\u001b[0;32m    978\u001b[0m \u001b[43m        \u001b[49m\u001b[38;5;28;43menumerate\u001b[39;49m\u001b[43m(\u001b[49m\u001b[43mcandidate_params\u001b[49m\u001b[43m)\u001b[49m\u001b[43m,\u001b[49m\n\u001b[0;32m    979\u001b[0m \u001b[43m        \u001b[49m\u001b[38;5;28;43menumerate\u001b[39;49m\u001b[43m(\u001b[49m\u001b[43mcv\u001b[49m\u001b[38;5;241;43m.\u001b[39;49m\u001b[43msplit\u001b[49m\u001b[43m(\u001b[49m\u001b[43mX\u001b[49m\u001b[43m,\u001b[49m\u001b[43m \u001b[49m\u001b[43my\u001b[49m\u001b[43m,\u001b[49m\u001b[43m \u001b[49m\u001b[38;5;241;43m*\u001b[39;49m\u001b[38;5;241;43m*\u001b[39;49m\u001b[43mrouted_params\u001b[49m\u001b[38;5;241;43m.\u001b[39;49m\u001b[43msplitter\u001b[49m\u001b[38;5;241;43m.\u001b[39;49m\u001b[43msplit\u001b[49m\u001b[43m)\u001b[49m\u001b[43m)\u001b[49m\u001b[43m,\u001b[49m\n\u001b[0;32m    980\u001b[0m \u001b[43m    \u001b[49m\u001b[43m)\u001b[49m\n\u001b[0;32m    981\u001b[0m \u001b[43m\u001b[49m\u001b[43m)\u001b[49m\n\u001b[0;32m    983\u001b[0m \u001b[38;5;28;01mif\u001b[39;00m \u001b[38;5;28mlen\u001b[39m(out) \u001b[38;5;241m<\u001b[39m \u001b[38;5;241m1\u001b[39m:\n\u001b[0;32m    984\u001b[0m     \u001b[38;5;28;01mraise\u001b[39;00m \u001b[38;5;167;01mValueError\u001b[39;00m(\n\u001b[0;32m    985\u001b[0m         \u001b[38;5;124m\"\u001b[39m\u001b[38;5;124mNo fits were performed. \u001b[39m\u001b[38;5;124m\"\u001b[39m\n\u001b[0;32m    986\u001b[0m         \u001b[38;5;124m\"\u001b[39m\u001b[38;5;124mWas the CV iterator empty? \u001b[39m\u001b[38;5;124m\"\u001b[39m\n\u001b[0;32m    987\u001b[0m         \u001b[38;5;124m\"\u001b[39m\u001b[38;5;124mWere there no candidates?\u001b[39m\u001b[38;5;124m\"\u001b[39m\n\u001b[0;32m    988\u001b[0m     )\n",
      "File \u001b[1;32mc:\\Users\\Max\\AppData\\Local\\Programs\\Python\\Python311\\Lib\\site-packages\\sklearn\\utils\\parallel.py:74\u001b[0m, in \u001b[0;36mParallel.__call__\u001b[1;34m(self, iterable)\u001b[0m\n\u001b[0;32m     69\u001b[0m config \u001b[38;5;241m=\u001b[39m get_config()\n\u001b[0;32m     70\u001b[0m iterable_with_config \u001b[38;5;241m=\u001b[39m (\n\u001b[0;32m     71\u001b[0m     (_with_config(delayed_func, config), args, kwargs)\n\u001b[0;32m     72\u001b[0m     \u001b[38;5;28;01mfor\u001b[39;00m delayed_func, args, kwargs \u001b[38;5;129;01min\u001b[39;00m iterable\n\u001b[0;32m     73\u001b[0m )\n\u001b[1;32m---> 74\u001b[0m \u001b[38;5;28;01mreturn\u001b[39;00m \u001b[38;5;28;43msuper\u001b[39;49m\u001b[43m(\u001b[49m\u001b[43m)\u001b[49m\u001b[38;5;241;43m.\u001b[39;49m\u001b[38;5;21;43m__call__\u001b[39;49m\u001b[43m(\u001b[49m\u001b[43miterable_with_config\u001b[49m\u001b[43m)\u001b[49m\n",
      "File \u001b[1;32mc:\\Users\\Max\\AppData\\Local\\Programs\\Python\\Python311\\Lib\\site-packages\\joblib\\parallel.py:2007\u001b[0m, in \u001b[0;36mParallel.__call__\u001b[1;34m(self, iterable)\u001b[0m\n\u001b[0;32m   2001\u001b[0m \u001b[38;5;66;03m# The first item from the output is blank, but it makes the interpreter\u001b[39;00m\n\u001b[0;32m   2002\u001b[0m \u001b[38;5;66;03m# progress until it enters the Try/Except block of the generator and\u001b[39;00m\n\u001b[0;32m   2003\u001b[0m \u001b[38;5;66;03m# reaches the first `yield` statement. This starts the asynchronous\u001b[39;00m\n\u001b[0;32m   2004\u001b[0m \u001b[38;5;66;03m# dispatch of the tasks to the workers.\u001b[39;00m\n\u001b[0;32m   2005\u001b[0m \u001b[38;5;28mnext\u001b[39m(output)\n\u001b[1;32m-> 2007\u001b[0m \u001b[38;5;28;01mreturn\u001b[39;00m output \u001b[38;5;28;01mif\u001b[39;00m \u001b[38;5;28mself\u001b[39m\u001b[38;5;241m.\u001b[39mreturn_generator \u001b[38;5;28;01melse\u001b[39;00m \u001b[38;5;28;43mlist\u001b[39;49m\u001b[43m(\u001b[49m\u001b[43moutput\u001b[49m\u001b[43m)\u001b[49m\n",
      "File \u001b[1;32mc:\\Users\\Max\\AppData\\Local\\Programs\\Python\\Python311\\Lib\\site-packages\\joblib\\parallel.py:1650\u001b[0m, in \u001b[0;36mParallel._get_outputs\u001b[1;34m(self, iterator, pre_dispatch)\u001b[0m\n\u001b[0;32m   1647\u001b[0m     \u001b[38;5;28;01myield\u001b[39;00m\n\u001b[0;32m   1649\u001b[0m     \u001b[38;5;28;01mwith\u001b[39;00m \u001b[38;5;28mself\u001b[39m\u001b[38;5;241m.\u001b[39m_backend\u001b[38;5;241m.\u001b[39mretrieval_context():\n\u001b[1;32m-> 1650\u001b[0m         \u001b[38;5;28;01myield from\u001b[39;00m \u001b[38;5;28mself\u001b[39m\u001b[38;5;241m.\u001b[39m_retrieve()\n\u001b[0;32m   1652\u001b[0m \u001b[38;5;28;01mexcept\u001b[39;00m \u001b[38;5;167;01mGeneratorExit\u001b[39;00m:\n\u001b[0;32m   1653\u001b[0m     \u001b[38;5;66;03m# The generator has been garbage collected before being fully\u001b[39;00m\n\u001b[0;32m   1654\u001b[0m     \u001b[38;5;66;03m# consumed. This aborts the remaining tasks if possible and warn\u001b[39;00m\n\u001b[0;32m   1655\u001b[0m     \u001b[38;5;66;03m# the user if necessary.\u001b[39;00m\n\u001b[0;32m   1656\u001b[0m     \u001b[38;5;28mself\u001b[39m\u001b[38;5;241m.\u001b[39m_exception \u001b[38;5;241m=\u001b[39m \u001b[38;5;28;01mTrue\u001b[39;00m\n",
      "File \u001b[1;32mc:\\Users\\Max\\AppData\\Local\\Programs\\Python\\Python311\\Lib\\site-packages\\joblib\\parallel.py:1762\u001b[0m, in \u001b[0;36mParallel._retrieve\u001b[1;34m(self)\u001b[0m\n\u001b[0;32m   1757\u001b[0m \u001b[38;5;66;03m# If the next job is not ready for retrieval yet, we just wait for\u001b[39;00m\n\u001b[0;32m   1758\u001b[0m \u001b[38;5;66;03m# async callbacks to progress.\u001b[39;00m\n\u001b[0;32m   1759\u001b[0m \u001b[38;5;28;01mif\u001b[39;00m ((\u001b[38;5;28mlen\u001b[39m(\u001b[38;5;28mself\u001b[39m\u001b[38;5;241m.\u001b[39m_jobs) \u001b[38;5;241m==\u001b[39m \u001b[38;5;241m0\u001b[39m) \u001b[38;5;129;01mor\u001b[39;00m\n\u001b[0;32m   1760\u001b[0m     (\u001b[38;5;28mself\u001b[39m\u001b[38;5;241m.\u001b[39m_jobs[\u001b[38;5;241m0\u001b[39m]\u001b[38;5;241m.\u001b[39mget_status(\n\u001b[0;32m   1761\u001b[0m         timeout\u001b[38;5;241m=\u001b[39m\u001b[38;5;28mself\u001b[39m\u001b[38;5;241m.\u001b[39mtimeout) \u001b[38;5;241m==\u001b[39m TASK_PENDING)):\n\u001b[1;32m-> 1762\u001b[0m     time\u001b[38;5;241m.\u001b[39msleep(\u001b[38;5;241m0.01\u001b[39m)\n\u001b[0;32m   1763\u001b[0m     \u001b[38;5;28;01mcontinue\u001b[39;00m\n\u001b[0;32m   1765\u001b[0m \u001b[38;5;66;03m# We need to be careful: the job list can be filling up as\u001b[39;00m\n\u001b[0;32m   1766\u001b[0m \u001b[38;5;66;03m# we empty it and Python list are not thread-safe by\u001b[39;00m\n\u001b[0;32m   1767\u001b[0m \u001b[38;5;66;03m# default hence the use of the lock\u001b[39;00m\n",
      "\u001b[1;31mKeyboardInterrupt\u001b[0m: "
     ]
    }
   ],
   "source": [
    "import xgboost as xgb\n",
    "from sklearn.model_selection import GridSearchCV\n",
    "\n",
    "param_grid = {\n",
    "    'max_depth': [4, 6, 8],               # Tree depth (controls model complexity)\n",
    "    'learning_rate': [0.01, 0.1, 0.2],    # Step size shrinkage (prevents overfitting)\n",
    "    'n_estimators': [100, 300, 500],      # Number of boosting rounds\n",
    "    'subsample': [0.7, 1.0],              # Fraction of data used per boosting round\n",
    "    'colsample_bytree': [0.7, 1.0],       # Fraction of features used per tree\n",
    "    'gamma': [0, 0.1, 0.2],               # Minimum loss reduction for further splitting\n",
    "    'reg_alpha': [0, 0.01, 0.1],          # L1 regularization (feature selection)\n",
    "    'reg_lambda': [0.5, 1.0, 2.0],        # L2 regularization (prevents overfitting)\n",
    "}\n",
    "\n",
    "# Initialize XGBoost model\n",
    "xgb_model = xgb.XGBRegressor(objective='reg:squarederror', random_state=42)\n",
    "\n",
    "# Perform grid search with 3-fold cross-validation\n",
    "grid_search = GridSearchCV(\n",
    "    estimator=xgb_model,\n",
    "    param_grid=param_grid,\n",
    "    scoring='neg_mean_squared_error',\n",
    "    cv=3,         # 3-fold cross-validation (balances runtime and evaluation quality)\n",
    "    verbose=1,\n",
    "    n_jobs=-1     # Use all available CPU cores for parallel computation\n",
    ")\n",
    "\n",
    "# Run Grid Search (This might take 5-10 minutes)\n",
    "grid_search.fit(X_train_encoded, y_train)\n",
    "\n",
    "# Print the best parameters found\n",
    "print(\"Best Parameters:\", grid_search.best_params_)\n",
    "\n",
    "# Train a final model with optimal parameters\n",
    "best_model = xgb.XGBRegressor(**grid_search.best_params_, objective='reg:squarederror')\n",
    "best_model.fit(X_train_encoded, y_train)\n",
    "\n",
    "# Predict and evaluate\n",
    "train_preds = best_model.predict(X_train_encoded)\n",
    "mse = mean_squared_error(y_train, train_preds)\n",
    "r2 = r2_score(y_train, train_preds)\n",
    "\n",
    "print(f\"Optimized Training MSE: {mse}\")\n",
    "print(f\"Optimized Training R2: {r2}\")\n"
   ]
  }
 ],
 "metadata": {
  "kernelspec": {
   "display_name": "Python 3",
   "language": "python",
   "name": "python3"
  },
  "language_info": {
   "codemirror_mode": {
    "name": "ipython",
    "version": 3
   },
   "file_extension": ".py",
   "mimetype": "text/x-python",
   "name": "python",
   "nbconvert_exporter": "python",
   "pygments_lexer": "ipython3",
   "version": "3.11.0"
  }
 },
 "nbformat": 4,
 "nbformat_minor": 2
}
